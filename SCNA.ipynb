{
 "cells": [
  {
   "cell_type": "markdown",
   "metadata": {
    "slideshow": {
     "slide_type": "slide"
    }
   },
   "source": [
    "## The Node in the Machine: Software Architecture as Network\n",
    "\n",
    "\n",
    "### Bobby Norton\n",
    "### SCNA 2016\n",
    "### September 17, 2016\n",
    "### Los Angeles, CA\n"
   ]
  },
  {
   "cell_type": "markdown",
   "metadata": {
    "slideshow": {
     "slide_type": "slide"
    }
   },
   "source": [
    "## A design / refactoring experiment...\n",
    "\n",
    "Take a code base you know well. Put everything in one namespace / package / your language's equivalent of organization.\n",
    "\n",
    "The tests still pass.\n",
    "\n",
    "Open the code. Do you like this better?\n",
    "\n",
    "There are fewer things, right? Fewer files. Fewer directories. \n",
    "\n",
    "_What's not to love?_"
   ]
  },
  {
   "cell_type": "markdown",
   "metadata": {
    "slideshow": {
     "slide_type": "notes"
    }
   },
   "source": [
    "Drive out the idea that there are fewer boundaries, not just 'things'. \n",
    "\n",
    "Everything is exposed to us every time we look at this file.\n",
    "\n",
    "What about our test cases that defined boundaries between the sub-systems?\n",
    "\n",
    "Do we open up some of the functions that we want to test in isolation?"
   ]
  },
  {
   "cell_type": "markdown",
   "metadata": {
    "slideshow": {
     "slide_type": "slide"
    }
   },
   "source": [
    "### Analyzing code with a DSM\n",
    "\n",
    "`'s','t',1` => `[{'source': 's','target': 't','weight': '1'}]`"
   ]
  },
  {
   "cell_type": "code",
   "execution_count": 1,
   "metadata": {
    "collapsed": false,
    "slideshow": {
     "slide_type": "subslide"
    }
   },
   "outputs": [],
   "source": [
    "from scripts.io import *\n",
    "\n",
    "network_data = csv_to_edgelist('./data/lein-topology-faad435.csv')"
   ]
  },
  {
   "cell_type": "code",
   "execution_count": 2,
   "metadata": {
    "collapsed": false,
    "slideshow": {
     "slide_type": "subslide"
    }
   },
   "outputs": [
    {
     "data": {
      "text/plain": [
       "204"
      ]
     },
     "execution_count": 2,
     "metadata": {},
     "output_type": "execute_result"
    }
   ],
   "source": [
    "len(network_data)"
   ]
  },
  {
   "cell_type": "code",
   "execution_count": 3,
   "metadata": {
    "collapsed": false,
    "scrolled": true,
    "slideshow": {
     "slide_type": "subslide"
    }
   },
   "outputs": [
    {
     "data": {
      "text/plain": [
       "[{'source': 'topology.dependencies/dependencies',\n",
       "  'target': 'clojure.core/defn-',\n",
       "  'weight': '1'},\n",
       " {'source': 'topology.dependencies/filtered',\n",
       "  'target': 'clojure.core/filter',\n",
       "  'weight': '1'},\n",
       " {'source': 'topology.dependencies-test/should-compute-fn-calls-in-namespace',\n",
       "  'target': 'clojure.core/defn',\n",
       "  'weight': '1'},\n",
       " {'source': 'example/test-when', 'target': 'clojure.core/cons', 'weight': '1'},\n",
       " {'source': 'leiningen.topology/topology',\n",
       "  'target': 'org.clojure/clojure',\n",
       "  'weight': '1'}]"
      ]
     },
     "execution_count": 3,
     "metadata": {},
     "output_type": "execute_result"
    }
   ],
   "source": [
    "list(network_data)[:5]"
   ]
  },
  {
   "cell_type": "markdown",
   "metadata": {
    "collapsed": true,
    "slideshow": {
     "slide_type": "slide"
    }
   },
   "source": [
    "Let's try visualizing as a Dependency Structure Matrix. \n",
    "\n",
    "[\"A DSM scales better than a network visualization\"](http://www.ndepend.com/docs/dependency-structure-matrix-dsm)."
   ]
  },
  {
   "cell_type": "code",
   "execution_count": 5,
   "metadata": {
    "collapsed": false,
    "slideshow": {
     "slide_type": "subslide"
    }
   },
   "outputs": [
    {
     "data": {
      "text/plain": [
       "106"
      ]
     },
     "execution_count": 5,
     "metadata": {},
     "output_type": "execute_result"
    }
   ],
   "source": [
    "from scripts.graph import *\n",
    "\n",
    "len(edgelist_to_nodes(network_data))"
   ]
  },
  {
   "cell_type": "markdown",
   "metadata": {
    "slideshow": {
     "slide_type": "slide"
    }
   },
   "source": [
    "We will be looking at a $N^2$ matrix...the dependency structure matrix. \n",
    "\n",
    "`row -depends-> column`\n",
    "\n",
    "Try sorting the entries by outdegree. Notice how most of the most of the lower half of the matrix is empty? This is otherwise known as a sparse matrix."
   ]
  },
  {
   "cell_type": "code",
   "execution_count": 7,
   "metadata": {
    "collapsed": false,
    "scrolled": true,
    "slideshow": {
     "slide_type": "slide"
    }
   },
   "outputs": [
    {
     "data": {
      "text/html": [
       "\n",
       "        <iframe\n",
       "            width=\"100%\"\n",
       "            height=\"800\"\n",
       "            src=\"figure/graph-a75cd98b-6ea9-4311-a1f7-4b5216babe7c.html\"\n",
       "            frameborder=\"0\"\n",
       "            allowfullscreen\n",
       "        ></iframe>\n",
       "        "
      ],
      "text/plain": [
       "<IPython.lib.display.IFrame at 0x102811350>"
      ]
     },
     "execution_count": 7,
     "metadata": {},
     "output_type": "execute_result"
    }
   ],
   "source": [
    "from scripts.layouts import *\n",
    "\n",
    "matrix(network_data, 800)"
   ]
  },
  {
   "cell_type": "markdown",
   "metadata": {
    "collapsed": true,
    "slideshow": {
     "slide_type": "slide"
    }
   },
   "source": [
    "### DSM Visualization Exercise Ideas\n",
    "\n",
    "* We would ideally like to order this by group. In this case, namespace is a reasonable way to group. There are many potential options.\n",
    "\n",
    "* Coloring cells could be done in a more interesting way.\n",
    "\n",
    "* Abbreviating columns would be useful."
   ]
  },
  {
   "cell_type": "code",
   "execution_count": null,
   "metadata": {
    "collapsed": true
   },
   "outputs": [],
   "source": []
  }
 ],
 "metadata": {
  "celltoolbar": "Slideshow",
  "kernelspec": {
   "display_name": "Python 2",
   "language": "python",
   "name": "python2"
  },
  "language_info": {
   "codemirror_mode": {
    "name": "ipython",
    "version": 2
   },
   "file_extension": ".py",
   "mimetype": "text/x-python",
   "name": "python",
   "nbconvert_exporter": "python",
   "pygments_lexer": "ipython2",
   "version": "2.7.12"
  }
 },
 "nbformat": 4,
 "nbformat_minor": 0
}
