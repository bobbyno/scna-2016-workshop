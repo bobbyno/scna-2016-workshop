{
 "cells": [
  {
   "cell_type": "markdown",
   "metadata": {
    "slideshow": {
     "slide_type": "slide"
    }
   },
   "source": [
    "## The Node in the Machine: Software Architecture as Network\n",
    "\n",
    "\n",
    "### Bobby Norton\n",
    "### SCNA 2016\n",
    "### September 17, 2016\n",
    "### Los Angeles, CA\n"
   ]
  },
  {
   "cell_type": "markdown",
   "metadata": {
    "slideshow": {
     "slide_type": "slide"
    }
   },
   "source": [
    "### Exercise: Who's Here?"
   ]
  },
  {
   "cell_type": "markdown",
   "metadata": {
    "slideshow": {
     "slide_type": "slide"
    }
   },
   "source": [
    "## A design / refactoring experiment...\n",
    "\n",
    "Take a code base you know well. Put everything in one namespace / package / your language's equivalent of organization.\n",
    "\n",
    "The tests still pass.\n",
    "\n",
    "Open the code. Do you like this better?\n",
    "\n",
    "There are fewer things, right? Fewer files. Fewer directories. \n",
    "\n",
    "_What's not to love?_"
   ]
  },
  {
   "cell_type": "markdown",
   "metadata": {
    "slideshow": {
     "slide_type": "slide"
    }
   },
   "source": [
    "There are fewer _boundaries_, not just 'things'. \n",
    "\n",
    "Everything is exposed to us every time we look at this file.\n",
    "\n",
    "What about our test cases that defined boundaries between the sub-systems?\n",
    "\n",
    "Do we open up some of the functions that we want to test in isolation?"
   ]
  },
  {
   "cell_type": "markdown",
   "metadata": {
    "collapsed": true,
    "slideshow": {
     "slide_type": "slide"
    }
   },
   "source": [
    "## Visualizing code with Cytoscape"
   ]
  },
  {
   "cell_type": "code",
   "execution_count": 44,
   "metadata": {
    "collapsed": true,
    "slideshow": {
     "slide_type": "slide"
    }
   },
   "outputs": [],
   "source": [
    "from scripts.io import *\n",
    "\n",
    "network_data = csv_to_edgelist('./data/lein-topology-335a129.csv')"
   ]
  },
  {
   "cell_type": "code",
   "execution_count": 45,
   "metadata": {
    "collapsed": false,
    "slideshow": {
     "slide_type": "subslide"
    }
   },
   "outputs": [],
   "source": [
    "from scripts.graph import *\n",
    "\n",
    "g = edgelist_to_igraph(network_data)"
   ]
  },
  {
   "cell_type": "code",
   "execution_count": 46,
   "metadata": {
    "collapsed": false,
    "slideshow": {
     "slide_type": "slide"
    }
   },
   "outputs": [],
   "source": [
    "# Many thanks to Kei Ono for his work on py2cytoscape\n",
    "# https://github.com/idekerlab/tsri-lecture/blob/master/lecture2/Lesson_2_reproducible_workflow.ipynb\n",
    "\n",
    "from py2cytoscape.data.cynetwork import CyNetwork\n",
    "from py2cytoscape.data.cyrest_client import CyRestClient\n",
    "from py2cytoscape.data.style import StyleUtil\n",
    "import py2cytoscape.util.cytoscapejs as cyjs\n",
    "import py2cytoscape.cytoscapejs as renderer"
   ]
  },
  {
   "cell_type": "code",
   "execution_count": 47,
   "metadata": {
    "collapsed": false,
    "slideshow": {
     "slide_type": "slide"
    }
   },
   "outputs": [],
   "source": [
    "# Be sure Cytoscape is running, then...\n",
    "\n",
    "# Step 1: Create py2cytoscape client\n",
    "cy = CyRestClient()"
   ]
  },
  {
   "cell_type": "code",
   "execution_count": 48,
   "metadata": {
    "collapsed": true,
    "slideshow": {
     "slide_type": "subslide"
    }
   },
   "outputs": [],
   "source": [
    "# Reset (delete all existing networks)\n",
    "cy.session.delete()"
   ]
  },
  {
   "cell_type": "code",
   "execution_count": 49,
   "metadata": {
    "collapsed": true,
    "slideshow": {
     "slide_type": "slide"
    }
   },
   "outputs": [],
   "source": [
    "# Step 2: Load network\n",
    "cy_network = cy.network.create_from_igraph(g, name=\"335a129\", collection=\"lein-topology\")"
   ]
  },
  {
   "cell_type": "code",
   "execution_count": 50,
   "metadata": {
    "collapsed": true,
    "slideshow": {
     "slide_type": "slide"
    }
   },
   "outputs": [],
   "source": [
    "# Step 3: Apply layout\n",
    "cy.layout.apply(name='force-directed', network=cy_network)"
   ]
  },
  {
   "cell_type": "code",
   "execution_count": 51,
   "metadata": {
    "collapsed": true,
    "slideshow": {
     "slide_type": "subslide"
    }
   },
   "outputs": [],
   "source": [
    "# Step 4: Create Visual Style as code\n",
    "custom_style = cy.style.create('B Sides')\n",
    "\n",
    "basic_settings = {\n",
    "    # You can set default values as key-value pairs.\n",
    "    \n",
    "    'NODE_FILL_COLOR': '#6AACB8',\n",
    "    'NODE_SIZE': 55,\n",
    "    'NODE_BORDER_WIDTH': 0,\n",
    "    'NODE_LABEL_COLOR': '#555555',\n",
    "    \n",
    "    'EDGE_WIDTH': 2,\n",
    "    'EDGE_TRANSPARENCY': 100,\n",
    "    'EDGE_STROKE_UNSELECTED_PAINT': '#333333'\n",
    "}\n",
    "\n",
    "custom_style.update_defaults(basic_settings)\n",
    "cy.style.apply(custom_style, cy_network)"
   ]
  },
  {
   "cell_type": "code",
   "execution_count": 52,
   "metadata": {
    "collapsed": false,
    "slideshow": {
     "slide_type": "subslide"
    }
   },
   "outputs": [],
   "source": [
    "# Map the label property in the igraph data to Cytoscape's NODE_LABEL visual property\n",
    "custom_style.create_passthrough_mapping(column='label', vp='NODE_LABEL', col_type='String')\n",
    "cy.style.apply(custom_style, cy_network)"
   ]
  },
  {
   "cell_type": "code",
   "execution_count": 60,
   "metadata": {
    "collapsed": false,
    "slideshow": {
     "slide_type": "slide"
    }
   },
   "outputs": [
    {
     "data": {
      "text/html": [
       "<!DOCTYPE html>\n",
       "<html>\n",
       "<head>\n",
       "    <meta charset=utf-8 />\n",
       "    <style type=\"text/css\">\n",
       "      body {\n",
       "          font: 14px helvetica neue, helvetica, arial, sans-serif;\n",
       "      }\n",
       "\n",
       "      #cy5d4ffab3-482c-4c80-b8eb-594727257b4c {\n",
       "        height: 700px;\n",
       "        width: 1098px;\n",
       "        position: absolute;\n",
       "        left: 4px;\n",
       "        top: 5px;\n",
       "        background: radial-gradient(#FFFFFF 15%, #DDDDDD 105%);\n",
       "      }\n",
       "    </style>\n",
       "\n",
       "    <script>\n",
       "    (function() {\n",
       "      function render() {\n",
       "        $('#cy5d4ffab3-482c-4c80-b8eb-594727257b4c').cytoscape({\n",
       "            elements: {\n",
       "                nodes: [{\"position\": {\"y\": 403.66543544898525, \"x\": -28.911661587028846}, \"selected\": false, \"data\": {\"id_original\": \"106\", \"name\": \"106\", \"SUID\": 196, \"selected\": false, \"label\": \"clojure.zip/zipper\", \"shared_name\": \"106\", \"id\": \"196\"}}, {\"position\": {\"y\": 451.0722652829696, \"x\": -69.46131464031254}, \"selected\": false, \"data\": {\"id_original\": \"105\", \"name\": \"105\", \"SUID\": 195, \"selected\": false, \"label\": \"clojure.core/with-meta\", \"shared_name\": \"105\", \"id\": \"195\"}}, {\"position\": {\"y\": 141.78738369117275, \"x\": 302.03324274036373}, \"selected\": false, \"data\": {\"id_original\": \"104\", \"name\": \"104\", \"SUID\": 194, \"selected\": false, \"label\": \"clojure.zip/node\", \"shared_name\": \"104\", \"id\": \"194\"}}, {\"position\": {\"y\": 224.6696468747665, \"x\": 156.69661859485592}, \"selected\": false, \"data\": {\"id_original\": \"103\", \"name\": \"103\", \"SUID\": 193, \"selected\": false, \"label\": \"clojure.core/read-string\", \"shared_name\": \"103\", \"id\": \"193\"}}, {\"position\": {\"y\": 154.33398403296962, \"x\": 201.62168268176998}, \"selected\": false, \"data\": {\"id_original\": \"102\", \"name\": \"102\", \"SUID\": 192, \"selected\": false, \"label\": \"clojure.core/into\", \"shared_name\": \"102\", \"id\": \"192\"}}, {\"position\": {\"y\": 158.000579491954, \"x\": -287.1921753504566}, \"selected\": false, \"data\": {\"id_original\": \"101\", \"name\": \"101\", \"SUID\": 191, \"selected\": false, \"label\": \"clojure.core/sort-by\", \"shared_name\": \"101\", \"id\": \"191\"}}, {\"position\": {\"y\": 453.2485348142196, \"x\": 149.15241388294186}, \"selected\": false, \"data\": {\"id_original\": \"100\", \"name\": \"100\", \"SUID\": 190, \"selected\": false, \"label\": \"clojure.core/take-while\", \"shared_name\": \"100\", \"id\": \"190\"}}, {\"position\": {\"y\": 222.88909877906337, \"x\": 215.58414606067623}, \"selected\": false, \"data\": {\"id_original\": \"99\", \"name\": \"99\", \"SUID\": 189, \"selected\": false, \"label\": \"clojure.core/not-empty\", \"shared_name\": \"99\", \"id\": \"189\"}}, {\"position\": {\"y\": -62.22346721519932, \"x\": -226.9467224695972}, \"selected\": false, \"data\": {\"id_original\": \"98\", \"name\": \"98\", \"SUID\": 188, \"selected\": false, \"label\": \"clojure.core/not=\", \"shared_name\": \"98\", \"id\": \"188\"}}, {\"position\": {\"y\": -259.9966586672257, \"x\": 54.27670434925045}, \"selected\": false, \"data\": {\"id_original\": \"97\", \"name\": \"97\", \"SUID\": 187, \"selected\": false, \"label\": \"clojure.string/join\", \"shared_name\": \"97\", \"id\": \"187\"}}, {\"position\": {\"y\": -492.289215429921, \"x\": 209.79303888294186}, \"selected\": false, \"data\": {\"id_original\": \"96\", \"name\": \"96\", \"SUID\": 186, \"selected\": false, \"label\": \"java.util.Collections/EMPTY_SET\", \"shared_name\": \"96\", \"id\": \"186\"}}, {\"position\": {\"y\": 303.25051845679775, \"x\": 301.81342462512936}, \"selected\": false, \"data\": {\"id_original\": \"95\", \"name\": \"95\", \"SUID\": 185, \"selected\": false, \"label\": \"clojure.zip/end?\", \"shared_name\": \"95\", \"id\": \"185\"}}, {\"position\": {\"y\": 260.9987484372665, \"x\": 84.85694269153561}, \"selected\": false, \"data\": {\"id_original\": \"94\", \"name\": \"94\", \"SUID\": 184, \"selected\": false, \"label\": \"clojure.core/vector\", \"shared_name\": \"94\", \"id\": \"184\"}}, {\"position\": {\"y\": 311.0152584470321, \"x\": -220.45345159557377}, \"selected\": false, \"data\": {\"id_original\": \"93\", \"name\": \"93\", \"SUID\": 183, \"selected\": false, \"label\": \"clojure.java.io/file\", \"shared_name\": \"93\", \"id\": \"183\"}}, {\"position\": {\"y\": -541.1937259279679, \"x\": 171.11860040637936}, \"selected\": false, \"data\": {\"id_original\": \"92\", \"name\": \"92\", \"SUID\": 182, \"selected\": false, \"label\": \"clojure.core/get\", \"shared_name\": \"92\", \"id\": \"182\"}}, {\"position\": {\"y\": 392.62136806617275, \"x\": 71.14037469837155}, \"selected\": false, \"data\": {\"id_original\": \"91\", \"name\": \"91\", \"SUID\": 181, \"selected\": false, \"label\": \"clojure.core/seq?\", \"shared_name\": \"91\", \"id\": \"181\"}}, {\"position\": {\"y\": 278.2873226560165, \"x\": -276.42470403698}, \"selected\": false, \"data\": {\"id_original\": \"90\", \"name\": \"90\", \"SUID\": 180, \"selected\": false, \"label\": \"clojure.tools.namespace.file/clojure-file?\", \"shared_name\": \"90\", \"id\": \"180\"}}, {\"position\": {\"y\": -32.458149298329204, \"x\": 130.62120965930905}, \"selected\": false, \"data\": {\"id_original\": \"89\", \"name\": \"89\", \"SUID\": 179, \"selected\": false, \"label\": \"clojure.core/set\", \"shared_name\": \"89\", \"id\": \"179\"}}, {\"position\": {\"y\": -501.5542300783585, \"x\": -62.65985628154789}, \"selected\": false, \"data\": {\"id_original\": \"88\", \"name\": \"88\", \"SUID\": 178, \"selected\": false, \"label\": \"clojure.core/doseq\", \"shared_name\": \"88\", \"id\": \"178\"}}, {\"position\": {\"y\": -123.23033939232334, \"x\": -194.03153081920658}, \"selected\": false, \"data\": {\"id_original\": \"87\", \"name\": \"87\", \"SUID\": 177, \"selected\": false, \"label\": \"clojure.core/require\", \"shared_name\": \"87\", \"id\": \"177\"}}, {\"position\": {\"y\": 145.15270961890712, \"x\": -349.69722600963627}, \"selected\": false, \"data\": {\"id_original\": \"86\", \"name\": \"86\", \"SUID\": 176, \"selected\": false, \"label\": \"clojure.core/vals\", \"shared_name\": \"86\", \"id\": \"176\"}}, {\"position\": {\"y\": 278.97769130836025, \"x\": -418.13310857799564}, \"selected\": false, \"data\": {\"id_original\": \"85\", \"name\": \"85\", \"SUID\": 175, \"selected\": false, \"label\": \"clojure.core/->\", \"shared_name\": \"85\", \"id\": \"175\"}}, {\"position\": {\"y\": -188.67074619163975, \"x\": -193.50769659069095}, \"selected\": false, \"data\": {\"id_original\": \"84\", \"name\": \"84\", \"SUID\": 174, \"selected\": false, \"label\": \"clojure.core/mapcat\", \"shared_name\": \"84\", \"id\": \"174\"}}, {\"position\": {\"y\": -348.65609775413975, \"x\": -156.44629522350345}, \"selected\": false, \"data\": {\"id_original\": \"83\", \"name\": \"83\", \"SUID\": 173, \"selected\": false, \"label\": \"clojure.core/conj\", \"shared_name\": \"83\", \"id\": \"173\"}}, {\"position\": {\"y\": -59.15143619408116, \"x\": -130.95096441295658}, \"selected\": false, \"data\": {\"id_original\": \"82\", \"name\": \"82\", \"SUID\": 172, \"selected\": false, \"label\": \"topology.edgelist/ns->edgelist\", \"shared_name\": \"82\", \"id\": \"172\"}}, {\"position\": {\"y\": -158.94274936546788, \"x\": 307.88895563098873}, \"selected\": false, \"data\": {\"id_original\": \"81\", \"name\": \"81\", \"SUID\": 171, \"selected\": false, \"label\": \"clojure.core/let\", \"shared_name\": \"81\", \"id\": \"171\"}}, {\"position\": {\"y\": -66.96756206383213, \"x\": 176.63727716419186}, \"selected\": false, \"data\": {\"id_original\": \"80\", \"name\": \"80\", \"SUID\": 170, \"selected\": false, \"label\": \"example/a-test-def\", \"shared_name\": \"80\", \"id\": \"170\"}}, {\"position\": {\"y\": 186.048431054454, \"x\": -10.81176992443119}, \"selected\": false, \"data\": {\"id_original\": \"79\", \"name\": \"79\", \"SUID\": 169, \"selected\": false, \"label\": \"clojure.core/and\", \"shared_name\": \"79\", \"id\": \"169\"}}, {\"position\": {\"y\": 417.6257320798446, \"x\": 270.50773004505123}, \"selected\": false, \"data\": {\"id_original\": \"78\", \"name\": \"78\", \"SUID\": 168, \"selected\": false, \"label\": \"clojure.core/iterate\", \"shared_name\": \"78\", \"id\": \"168\"}}, {\"position\": {\"y\": 203.1640316403915, \"x\": -94.39708944347416}, \"selected\": false, \"data\": {\"id_original\": \"77\", \"name\": \"77\", \"SUID\": 167, \"selected\": false, \"label\": \"clojure.core/str\", \"shared_name\": \"77\", \"id\": \"167\"}}, {\"position\": {\"y\": 209.433684960704, \"x\": -431.6970429041675}, \"selected\": false, \"data\": {\"id_original\": \"76\", \"name\": \"76\", \"SUID\": 166, \"selected\": false, \"label\": \"clojure.core/name\", \"shared_name\": \"76\", \"id\": \"166\"}}, {\"position\": {\"y\": 55.13578762183681, \"x\": 74.3417296788403}, \"selected\": false, \"data\": {\"id_original\": \"75\", \"name\": \"75\", \"SUID\": 165, \"selected\": false, \"label\": \"clojure.core/second\", \"shared_name\": \"75\", \"id\": \"165\"}}, {\"position\": {\"y\": 334.384368554454, \"x\": -378.137838802605}, \"selected\": false, \"data\": {\"id_original\": \"74\", \"name\": \"74\", \"SUID\": 164, \"selected\": false, \"label\": \"clojure.core/if-let\", \"shared_name\": \"74\", \"id\": \"164\"}}, {\"position\": {\"y\": 85.847015038829, \"x\": -319.27547307994877}, \"selected\": false, \"data\": {\"id_original\": \"73\", \"name\": \"73\", \"SUID\": 163, \"selected\": false, \"label\": \"clojure.core/*err*\", \"shared_name\": \"73\", \"id\": \"163\"}}, {\"position\": {\"y\": 426.0092159665634, \"x\": 206.35135797473873}, \"selected\": false, \"data\": {\"id_original\": \"72\", \"name\": \"72\", \"SUID\": 162, \"selected\": false, \"label\": \"clojure.zip/next\", \"shared_name\": \"72\", \"id\": \"162\"}}, {\"position\": {\"y\": 100.07664455543056, \"x\": -370.51405950573}, \"selected\": false, \"data\": {\"id_original\": \"71\", \"name\": \"71\", \"SUID\": 161, \"selected\": false, \"label\": \"clojure.core/ns\", \"shared_name\": \"71\", \"id\": \"161\"}}, {\"position\": {\"y\": -83.95785032143101, \"x\": -292.2885193445972}, \"selected\": false, \"data\": {\"id_original\": \"70\", \"name\": \"70\", \"SUID\": 160, \"selected\": false, \"label\": \"clojure.core/identity\", \"shared_name\": \"70\", \"id\": \"160\"}}, {\"position\": {\"y\": 371.1754146970321, \"x\": -314.6506561854175}, \"selected\": false, \"data\": {\"id_original\": \"69\", \"name\": \"69\", \"SUID\": 159, \"selected\": false, \"label\": \"clojure.core/ns-resolve\", \"shared_name\": \"69\", \"id\": \"159\"}}, {\"position\": {\"y\": 215.84597744117275, \"x\": -265.11166997936283}, \"selected\": false, \"data\": {\"id_original\": \"68\", \"name\": \"68\", \"SUID\": 158, \"selected\": false, \"label\": \"topology.qualifier/fq-ns\", \"shared_name\": \"68\", \"id\": \"158\"}}, {\"position\": {\"y\": -258.5404819094132, \"x\": -161.52707525280033}, \"selected\": false, \"data\": {\"id_original\": \"67\", \"name\": \"67\", \"SUID\": 157, \"selected\": false, \"label\": \"clojure.core/frequencies\", \"shared_name\": \"67\", \"id\": \"157\"}}, {\"position\": {\"y\": -315.29118381371006, \"x\": -223.3876404383472}, \"selected\": false, \"data\": {\"id_original\": \"66\", \"name\": \"66\", \"SUID\": 156, \"selected\": false, \"label\": \"clojure.core/update-in\", \"shared_name\": \"66\", \"id\": \"156\"}}, {\"position\": {\"y\": -59.94492374290928, \"x\": 299.24796442005123}, \"selected\": false, \"data\": {\"id_original\": \"65\", \"name\": \"65\", \"SUID\": 155, \"selected\": false, \"label\": \"clojure.core/*\", \"shared_name\": \"65\", \"id\": \"155\"}}, {\"position\": {\"y\": -248.89503513206944, \"x\": 112.45186761829342}, \"selected\": false, \"data\": {\"id_original\": \"64\", \"name\": \"64\", \"SUID\": 154, \"selected\": false, \"label\": \"clojure.core/list\", \"shared_name\": \"64\", \"id\": \"154\"}}, {\"position\": {\"y\": 69.95716823707119, \"x\": 311.5517669102856}, \"selected\": false, \"data\": {\"id_original\": \"63\", \"name\": \"63\", \"SUID\": 153, \"selected\": false, \"label\": \"clojure.core/symbol?\", \"shared_name\": \"63\", \"id\": \"153\"}}, {\"position\": {\"y\": -210.8596728884171, \"x\": 41.83980707141842}, \"selected\": false, \"data\": {\"id_original\": \"62\", \"name\": \"62\", \"SUID\": 152, \"selected\": false, \"label\": \"clojure.core/concat\", \"shared_name\": \"62\", \"id\": \"152\"}}, {\"position\": {\"y\": -215.92424045433506, \"x\": 346.09345392200436}, \"selected\": false, \"data\": {\"id_original\": \"61\", \"name\": \"61\", \"SUID\": 151, \"selected\": false, \"label\": \"clojure.core/ffirst\", \"shared_name\": \"61\", \"id\": \"151\"}}, {\"position\": {\"y\": 32.8871761716415, \"x\": -250.74129339244877}, \"selected\": false, \"data\": {\"id_original\": \"60\", \"name\": \"60\", \"SUID\": 150, \"selected\": false, \"label\": \"clojure.core/reduce\", \"shared_name\": \"60\", \"id\": \"150\"}}, {\"position\": {\"y\": 75.53115810523525, \"x\": 112.14191583606686}, \"selected\": false, \"data\": {\"id_original\": \"59\", \"name\": \"59\", \"SUID\": 149, \"selected\": false, \"label\": \"clojure.core/comp\", \"shared_name\": \"59\", \"id\": \"149\"}}, {\"position\": {\"y\": -363.8249820314835, \"x\": 114.56252435657467}, \"selected\": false, \"data\": {\"id_original\": \"58\", \"name\": \"58\", \"SUID\": 148, \"selected\": false, \"label\": \"example/java-interop\", \"shared_name\": \"58\", \"id\": \"148\"}}, {\"position\": {\"y\": 356.362640038829, \"x\": 264.92252496692623}, \"selected\": false, \"data\": {\"id_original\": \"57\", \"name\": \"57\", \"SUID\": 147, \"selected\": false, \"label\": \"clojure.core/complement\", \"shared_name\": \"57\", \"id\": \"147\"}}, {\"position\": {\"y\": 293.72134365211025, \"x\": 142.65512994739498}, \"selected\": false, \"data\": {\"id_original\": \"56\", \"name\": \"56\", \"SUID\": 146, \"selected\": false, \"label\": \"topology.symbols/zip-nodes\", \"shared_name\": \"56\", \"id\": \"146\"}}, {\"position\": {\"y\": -172.91784702171788, \"x\": -57.533270082741126}, \"selected\": false, \"data\": {\"id_original\": \"55\", \"name\": \"55\", \"SUID\": 145, \"selected\": false, \"label\": \"topology.edgelist/dirs->fn-edges\", \"shared_name\": \"55\", \"id\": \"145\"}}, {\"position\": {\"y\": -306.1374515139054, \"x\": 87.14991144153561}, \"selected\": false, \"data\": {\"id_original\": \"54\", \"name\": \"54\", \"SUID\": 144, \"selected\": false, \"label\": \"topology.edgelist-test/edges\", \"shared_name\": \"54\", \"id\": \"144\"}}, {\"position\": {\"y\": 28.785422936778218, \"x\": -4.537378750114783}, \"selected\": false, \"data\": {\"id_original\": \"53\", \"name\": \"53\", \"SUID\": 143, \"selected\": false, \"label\": \"clojure.core/map\", \"shared_name\": \"53\", \"id\": \"143\"}}, {\"position\": {\"y\": -228.58712802757725, \"x\": 175.55765680286373}, \"selected\": false, \"data\": {\"id_original\": \"52\", \"name\": \"52\", \"SUID\": 142, \"selected\": false, \"label\": \"example/a-defn-with-a-macro\", \"shared_name\": \"52\", \"id\": \"142\"}}, {\"position\": {\"y\": 216.24649013648525, \"x\": -136.56117864635502}, \"selected\": false, \"data\": {\"id_original\": \"51\", \"name\": \"51\", \"SUID\": 141, \"selected\": false, \"label\": \"clojure.core/partial\", \"shared_name\": \"51\", \"id\": \"141\"}}, {\"position\": {\"y\": -4.208015783924907, \"x\": -209.61113592174564}, \"selected\": false, \"data\": {\"id_original\": \"50\", \"name\": \"50\", \"SUID\": 140, \"selected\": false, \"label\": \"clojure.core/namespace\", \"shared_name\": \"50\", \"id\": \"140\"}}, {\"position\": {\"y\": -140.5456088625382, \"x\": 260.933938541145}, \"selected\": false, \"data\": {\"id_original\": \"49\", \"name\": \"49\", \"SUID\": 139, \"selected\": false, \"label\": \"clojure.core/range\", \"shared_name\": \"49\", \"id\": \"139\"}}, {\"position\": {\"y\": -210.12469516624913, \"x\": 261.61405328723873}, \"selected\": false, \"data\": {\"id_original\": \"48\", \"name\": \"48\", \"SUID\": 138, \"selected\": false, \"label\": \"clojure.core/max\", \"shared_name\": \"48\", \"id\": \"138\"}}, {\"position\": {\"y\": 443.3093868650009, \"x\": 22.068215884894983}, \"selected\": false, \"data\": {\"id_original\": \"47\", \"name\": \"47\", \"SUID\": 137, \"selected\": false, \"label\": \"clojure.core/map?\", \"shared_name\": \"47\", \"id\": \"137\"}}, {\"position\": {\"y\": -50.52820239891514, \"x\": -84.95989271190678}, \"selected\": false, \"data\": {\"id_original\": \"46\", \"name\": \"46\", \"SUID\": 136, \"selected\": false, \"label\": \"clojure.core/->>\", \"shared_name\": \"46\", \"id\": \"136\"}}, {\"position\": {\"y\": 77.52456630836025, \"x\": 158.6716857335278}, \"selected\": false, \"data\": {\"id_original\": \"45\", \"name\": \"45\", \"SUID\": 135, \"selected\": false, \"label\": \"topology.symbols/symbols\", \"shared_name\": \"45\", \"id\": \"135\"}}, {\"position\": {\"y\": -294.4411471926163, \"x\": 195.5113616368481}, \"selected\": false, \"data\": {\"id_original\": \"44\", \"name\": \"44\", \"SUID\": 134, \"selected\": false, \"label\": \"clojure.test/deftest\", \"shared_name\": \"44\", \"id\": \"134\"}}, {\"position\": {\"y\": 243.36489833961025, \"x\": -87.77815099742924}, \"selected\": false, \"data\": {\"id_original\": \"43\", \"name\": \"43\", \"SUID\": 133, \"selected\": false, \"label\": \"clojure.core/symbol\", \"shared_name\": \"43\", \"id\": \"133\"}}, {\"position\": {\"y\": 4.076766625743062, \"x\": 181.9497161290356}, \"selected\": false, \"data\": {\"id_original\": \"42\", \"name\": \"42\", \"SUID\": 132, \"selected\": false, \"label\": \"clojure.tools.namespace.file/read-file-ns-decl\", \"shared_name\": \"42\", \"id\": \"132\"}}, {\"position\": {\"y\": -1.3688434206436568, \"x\": -128.64761205699955}, \"selected\": false, \"data\": {\"id_original\": \"41\", \"name\": \"41\", \"SUID\": 131, \"selected\": false, \"label\": \"topology.finder/dirs->sources\", \"shared_name\": \"41\", \"id\": \"131\"}}, {\"position\": {\"y\": -60.150682791371196, \"x\": 25.41451410266842}, \"selected\": false, \"data\": {\"id_original\": \"40\", \"name\": \"40\", \"SUID\": 130, \"selected\": false, \"label\": \"topology.finder/source-paths->namespaces\", \"shared_name\": \"40\", \"id\": \"130\"}}, {\"position\": {\"y\": 108.37931789527431, \"x\": -152.54621740367924}, \"selected\": false, \"data\": {\"id_original\": \"39\", \"name\": \"39\", \"SUID\": 129, \"selected\": false, \"label\": \"topology.qualifier/all-fq\", \"shared_name\": \"39\", \"id\": \"129\"}}, {\"position\": {\"y\": -151.12216220726475, \"x\": -127.9862961390308}, \"selected\": false, \"data\": {\"id_original\": \"38\", \"name\": \"38\", \"SUID\": 128, \"selected\": false, \"label\": \"clojure.core/flatten\", \"shared_name\": \"38\", \"id\": \"128\"}}, {\"position\": {\"y\": -398.8577884279679, \"x\": -94.17914815929447}, \"selected\": false, \"data\": {\"id_original\": \"37\", \"name\": \"37\", \"SUID\": 127, \"selected\": false, \"label\": \"leiningen.core.eval/eval-in-project\", \"shared_name\": \"37\", \"id\": \"127\"}}, {\"position\": {\"y\": 169.10171474586025, \"x\": -53.66867967632328}, \"selected\": false, \"data\": {\"id_original\": \"36\", \"name\": \"36\", \"SUID\": 126, \"selected\": false, \"label\": \"clojure.core/assoc\", \"shared_name\": \"36\", \"id\": \"126\"}}, {\"position\": {\"y\": 20.309615746836812, \"x\": -88.08275457408939}, \"selected\": false, \"data\": {\"id_original\": \"35\", \"name\": \"35\", \"SUID\": 125, \"selected\": false, \"label\": \"topology.qualifier/filter-fully-qualified\", \"shared_name\": \"35\", \"id\": \"125\"}}, {\"position\": {\"y\": 222.42120327125087, \"x\": -327.96065374401127}, \"selected\": false, \"data\": {\"id_original\": \"34\", \"name\": \"34\", \"SUID\": 124, \"selected\": false, \"label\": \"clojure.core/file-seq\", \"shared_name\": \"34\", \"id\": \"124\"}}, {\"position\": {\"y\": -308.99894748558506, \"x\": 233.84784845325436}, \"selected\": false, \"data\": {\"id_original\": \"33\", \"name\": \"33\", \"SUID\": 123, \"selected\": false, \"label\": \"clojure.test/is\", \"shared_name\": \"33\", \"id\": \"123\"}}, {\"position\": {\"y\": -408.250885351796, \"x\": 203.28437189075436}, \"selected\": false, \"data\": {\"id_original\": \"32\", \"name\": \"32\", \"SUID\": 122, \"selected\": false, \"label\": \"topology.edgelist-test/should-report-java-interop\", \"shared_name\": \"32\", \"id\": \"122\"}}, {\"position\": {\"y\": -306.03614841331944, \"x\": 154.29042963001217}, \"selected\": false, \"data\": {\"id_original\": \"31\", \"name\": \"31\", \"SUID\": 121, \"selected\": false, \"label\": \"clojure.core/=\", \"shared_name\": \"31\", \"id\": \"121\"}}, {\"position\": {\"y\": 399.518890038829, \"x\": -116.9719910242847}, \"selected\": false, \"data\": {\"id_original\": \"30\", \"name\": \"30\", \"SUID\": 120, \"selected\": false, \"label\": \"clojure.core/vector?\", \"shared_name\": \"30\", \"id\": \"120\"}}, {\"position\": {\"y\": 303.029876366954, \"x\": 42.8303542515942}, \"selected\": false, \"data\": {\"id_original\": \"29\", \"name\": \"29\", \"SUID\": 119, \"selected\": false, \"label\": \"clojure.repl/source-fn\", \"shared_name\": \"29\", \"id\": \"119\"}}, {\"position\": {\"y\": 148.36254848609462, \"x\": 12.11849359485592}, \"selected\": false, \"data\": {\"id_original\": \"28\", \"name\": \"28\", \"SUID\": 118, \"selected\": false, \"label\": \"topology.dependencies/sources\", \"shared_name\": \"28\", \"id\": \"118\"}}, {\"position\": {\"y\": 235.70068325171962, \"x\": -179.68235631969486}, \"selected\": false, \"data\": {\"id_original\": \"27\", \"name\": \"27\", \"SUID\": 117, \"selected\": false, \"label\": \"clojure.core/meta\", \"shared_name\": \"27\", \"id\": \"117\"}}, {\"position\": {\"y\": -5.368629797596782, \"x\": -360.4018463709644}, \"selected\": false, \"data\": {\"id_original\": \"26\", \"name\": \"26\", \"SUID\": 116, \"selected\": false, \"label\": \"clojure.core/ns-interns\", \"shared_name\": \"26\", \"id\": \"116\"}}, {\"position\": {\"y\": 62.603759423594624, \"x\": -203.3036560633472}, \"selected\": false, \"data\": {\"id_original\": \"25\", \"name\": \"25\", \"SUID\": 115, \"selected\": false, \"label\": \"topology.dependencies/interns\", \"shared_name\": \"25\", \"id\": \"115\"}}, {\"position\": {\"y\": 122.15507473121181, \"x\": -36.43687292125736}, \"selected\": false, \"data\": {\"id_original\": \"24\", \"name\": \"24\", \"SUID\": 114, \"selected\": false, \"label\": \"clojure.core/fn\", \"shared_name\": \"24\", \"id\": \"114\"}}, {\"position\": {\"y\": 53.86453212867275, \"x\": -131.76226659801517}, \"selected\": false, \"data\": {\"id_original\": \"23\", \"name\": \"23\", \"SUID\": 113, \"selected\": false, \"label\": \"topology.edgelist/interleave-keys\", \"shared_name\": \"23\", \"id\": \"113\"}}, {\"position\": {\"y\": -34.55598102440342, \"x\": 57.678826846809045}, \"selected\": false, \"data\": {\"id_original\": \"22\", \"name\": \"22\", \"SUID\": 112, \"selected\": false, \"label\": \"clojure.core/seq\", \"shared_name\": \"22\", \"id\": \"112\"}}, {\"position\": {\"y\": -314.2331088625382, \"x\": 430.07770685169186}, \"selected\": false, \"data\": {\"id_original\": \"21\", \"name\": \"21\", \"SUID\": 111, \"selected\": false, \"label\": \"clojure.core/defmacro\", \"shared_name\": \"21\", \"id\": \"111\"}}, {\"position\": {\"y\": 312.3583980954696, \"x\": -140.53426214244877}, \"selected\": false, \"data\": {\"id_original\": \"20\", \"name\": \"20\", \"SUID\": 110, \"selected\": false, \"label\": \"clojure.core/or\", \"shared_name\": \"20\", \"id\": \"110\"}}, {\"position\": {\"y\": 278.01650966773525, \"x\": -21.317308864860877}, \"selected\": false, \"data\": {\"id_original\": \"19\", \"name\": \"19\", \"SUID\": 109, \"selected\": false, \"label\": \"topology.symbols/seq-map-zip\", \"shared_name\": \"19\", \"id\": \"109\"}}, {\"position\": {\"y\": -469.8031619631241, \"x\": 40.36762384387936}, \"selected\": false, \"data\": {\"id_original\": \"18\", \"name\": \"18\", \"SUID\": 108, \"selected\": false, \"label\": \"clojure.core/println\", \"shared_name\": \"18\", \"id\": \"108\"}}, {\"position\": {\"y\": -352.43942294945225, \"x\": -16.922300777702674}, \"selected\": false, \"data\": {\"id_original\": \"17\", \"name\": \"17\", \"SUID\": 107, \"selected\": false, \"label\": \"topology.printer/print-weighted-edges\", \"shared_name\": \"17\", \"id\": \"107\"}}, {\"position\": {\"y\": -88.48716114391789, \"x\": 248.99018243762936}, \"selected\": false, \"data\": {\"id_original\": \"16\", \"name\": \"16\", \"SUID\": 106, \"selected\": false, \"label\": \"clojure.core/shuffle\", \"shared_name\": \"16\", \"id\": \"106\"}}, {\"position\": {\"y\": -119.23733173241123, \"x\": 137.6311583897778}, \"selected\": false, \"data\": {\"id_original\": \"15\", \"name\": \"15\", \"SUID\": 105, \"selected\": false, \"label\": \"example/using-syntax-quote\", \"shared_name\": \"15\", \"id\": \"105\"}}, {\"position\": {\"y\": -15.511787756581157, \"x\": -7.638079128532752}, \"selected\": false, \"data\": {\"id_original\": \"14\", \"name\": \"14\", \"SUID\": 104, \"selected\": false, \"label\": \"topology.dependencies/ns->fn-dep-map\", \"shared_name\": \"14\", \"id\": \"104\"}}, {\"position\": {\"y\": -351.4237063967179, \"x\": 42.513108768195764}, \"selected\": false, \"data\": {\"id_original\": \"13\", \"name\": \"13\", \"SUID\": 103, \"selected\": false, \"label\": \"example/multiple-calls\", \"shared_name\": \"13\", \"id\": \"103\"}}, {\"position\": {\"y\": -416.8107913576554, \"x\": 143.1997619054028}, \"selected\": false, \"data\": {\"id_original\": \"12\", \"name\": \"12\", \"SUID\": 102, \"selected\": false, \"label\": \"topology.edgelist-test/should-produce-weighted-edges-for-multiple-calls\", \"shared_name\": \"12\", \"id\": \"102\"}}, {\"position\": {\"y\": 80.83036769996181, \"x\": -77.79667516735111}, \"selected\": false, \"data\": {\"id_original\": \"11\", \"name\": \"11\", \"SUID\": 101, \"selected\": false, \"label\": \"topology.finder/clojurescript-file?\", \"shared_name\": \"11\", \"id\": \"101\"}}, {\"position\": {\"y\": 150.6427151120712, \"x\": -174.24441381481205}, \"selected\": false, \"data\": {\"id_original\": \"10\", \"name\": \"10\", \"SUID\": 100, \"selected\": false, \"label\": \"topology.finder/find-sources-in-dir\", \"shared_name\": \"10\", \"id\": \"100\"}}, {\"position\": {\"y\": -402.310699804921, \"x\": -168.61983343151127}, \"selected\": false, \"data\": {\"id_original\": \"9\", \"name\": \"9\", \"SUID\": 99, \"selected\": false, \"label\": \"org.clojure/clojure\", \"shared_name\": \"9\", \"id\": \"99\"}}, {\"position\": {\"y\": -250.30355869163975, \"x\": -69.79096265819584}, \"selected\": false, \"data\": {\"id_original\": \"8\", \"name\": \"8\", \"SUID\": 98, \"selected\": false, \"label\": \"leiningen.topology/topology\", \"shared_name\": \"8\", \"id\": \"98\"}}, {\"position\": {\"y\": -388.8425296389054, \"x\": 382.892434634895}, \"selected\": false, \"data\": {\"id_original\": \"7\", \"name\": \"7\", \"SUID\": 97, \"selected\": false, \"label\": \"clojure.core/cons\", \"shared_name\": \"7\", \"id\": \"97\"}}, {\"position\": {\"y\": -281.1792758547257, \"x\": 282.97467950794186}, \"selected\": false, \"data\": {\"id_original\": \"6\", \"name\": \"6\", \"SUID\": 96, \"selected\": false, \"label\": \"example/test-when\", \"shared_name\": \"6\", \"id\": \"96\"}}, {\"position\": {\"y\": -163.3812106691788, \"x\": 47.04096368762936}, \"selected\": false, \"data\": {\"id_original\": \"5\", \"name\": \"5\", \"SUID\": 95, \"selected\": false, \"label\": \"clojure.core/defn\", \"shared_name\": \"5\", \"id\": \"95\"}}, {\"position\": {\"y\": -153.35070072044834, \"x\": 153.4837737462231}, \"selected\": false, \"data\": {\"id_original\": \"4\", \"name\": \"4\", \"SUID\": 94, \"selected\": false, \"label\": \"topology.dependencies-test/should-compute-fn-calls-in-namespace\", \"shared_name\": \"4\", \"id\": \"94\"}}, {\"position\": {\"y\": 31.835784570079, \"x\": 30.054734744758264}, \"selected\": false, \"data\": {\"id_original\": \"3\", \"name\": \"3\", \"SUID\": 93, \"selected\": false, \"label\": \"clojure.core/filter\", \"shared_name\": \"3\", \"id\": \"93\"}}, {\"position\": {\"y\": -181.08129917015538, \"x\": 170.26217035266842}, \"selected\": false, \"data\": {\"id_original\": \"2\", \"name\": \"2\", \"SUID\": 92, \"selected\": false, \"label\": \"topology.edgelist-test/syntax-quotes-add-seq-concat-list\", \"shared_name\": \"2\", \"id\": \"92\"}}, {\"position\": {\"y\": 146.62178005347744, \"x\": -85.2403301813892}, \"selected\": false, \"data\": {\"id_original\": \"1\", \"name\": \"1\", \"SUID\": 91, \"selected\": false, \"label\": \"clojure.core/defn-\", \"shared_name\": \"1\", \"id\": \"91\"}}, {\"position\": {\"y\": 150.9320217526962, \"x\": 59.76027826282467}, \"selected\": false, \"data\": {\"id_original\": \"0\", \"name\": \"0\", \"SUID\": 90, \"selected\": false, \"label\": \"topology.dependencies/dependencies\", \"shared_name\": \"0\", \"id\": \"90\"}}],\n",
       "                edges: [{\"selected\": false, \"data\": {\"target\": \"104\", \"weight\": 1.0, \"SUID\": 384, \"selected\": false, \"source\": \"172\", \"source_original\": \"82\", \"target_original\": \"14\", \"id\": \"384\"}}, {\"selected\": false, \"data\": {\"target\": \"91\", \"weight\": 1.0, \"SUID\": 341, \"selected\": false, \"source\": \"172\", \"source_original\": \"82\", \"target_original\": \"1\", \"id\": \"341\"}}, {\"selected\": false, \"data\": {\"target\": \"174\", \"weight\": 1.0, \"SUID\": 311, \"selected\": false, \"source\": \"172\", \"source_original\": \"82\", \"target_original\": \"84\", \"id\": \"311\"}}, {\"selected\": false, \"data\": {\"target\": \"113\", \"weight\": 1.0, \"SUID\": 307, \"selected\": false, \"source\": \"172\", \"source_original\": \"82\", \"target_original\": \"23\", \"id\": \"307\"}}, {\"selected\": false, \"data\": {\"target\": \"143\", \"weight\": 1.0, \"SUID\": 344, \"selected\": false, \"source\": \"170\", \"source_original\": \"80\", \"target_original\": \"53\", \"id\": \"344\"}}, {\"selected\": false, \"data\": {\"target\": \"139\", \"weight\": 1.0, \"SUID\": 330, \"selected\": false, \"source\": \"170\", \"source_original\": \"80\", \"target_original\": \"49\", \"id\": \"330\"}}, {\"selected\": false, \"data\": {\"target\": \"155\", \"weight\": 1.0, \"SUID\": 302, \"selected\": false, \"source\": \"170\", \"source_original\": \"80\", \"target_original\": \"65\", \"id\": \"302\"}}, {\"selected\": false, \"data\": {\"target\": \"161\", \"weight\": 3.0, \"SUID\": 365, \"selected\": false, \"source\": \"158\", \"source_original\": \"68\", \"target_original\": \"71\", \"id\": \"365\"}}, {\"selected\": false, \"data\": {\"target\": \"163\", \"weight\": 1.0, \"SUID\": 351, \"selected\": false, \"source\": \"158\", \"source_original\": \"68\", \"target_original\": \"73\", \"id\": \"351\"}}, {\"selected\": false, \"data\": {\"target\": \"167\", \"weight\": 2.0, \"SUID\": 337, \"selected\": false, \"source\": \"158\", \"source_original\": \"68\", \"target_original\": \"77\", \"id\": \"337\"}}, {\"selected\": false, \"data\": {\"target\": \"175\", \"weight\": 1.0, \"SUID\": 312, \"selected\": false, \"source\": \"158\", \"source_original\": \"68\", \"target_original\": \"85\", \"id\": \"312\"}}, {\"selected\": false, \"data\": {\"target\": \"166\", \"weight\": 1.0, \"SUID\": 293, \"selected\": false, \"source\": \"158\", \"source_original\": \"68\", \"target_original\": \"76\", \"id\": \"293\"}}, {\"selected\": false, \"data\": {\"target\": \"133\", \"weight\": 1.0, \"SUID\": 289, \"selected\": false, \"source\": \"158\", \"source_original\": \"68\", \"target_original\": \"43\", \"id\": \"289\"}}, {\"selected\": false, \"data\": {\"target\": \"91\", \"weight\": 1.0, \"SUID\": 287, \"selected\": false, \"source\": \"158\", \"source_original\": \"68\", \"target_original\": \"1\", \"id\": \"287\"}}, {\"selected\": false, \"data\": {\"target\": \"164\", \"weight\": 1.0, \"SUID\": 286, \"selected\": false, \"source\": \"158\", \"source_original\": \"68\", \"target_original\": \"74\", \"id\": \"286\"}}, {\"selected\": false, \"data\": {\"target\": \"117\", \"weight\": 1.0, \"SUID\": 276, \"selected\": false, \"source\": \"158\", \"source_original\": \"68\", \"target_original\": \"27\", \"id\": \"276\"}}, {\"selected\": false, \"data\": {\"target\": \"159\", \"weight\": 1.0, \"SUID\": 275, \"selected\": false, \"source\": \"158\", \"source_original\": \"68\", \"target_original\": \"69\", \"id\": \"275\"}}, {\"selected\": false, \"data\": {\"target\": \"186\", \"weight\": 1.0, \"SUID\": 370, \"selected\": false, \"source\": \"148\", \"source_original\": \"58\", \"target_original\": \"96\", \"id\": \"370\"}}, {\"selected\": false, \"data\": {\"target\": \"95\", \"weight\": 1.0, \"SUID\": 248, \"selected\": false, \"source\": \"148\", \"source_original\": \"58\", \"target_original\": \"5\", \"id\": \"248\"}}, {\"selected\": false, \"data\": {\"target\": \"190\", \"weight\": 1.0, \"SUID\": 378, \"selected\": false, \"source\": \"146\", \"source_original\": \"56\", \"target_original\": \"100\", \"id\": \"378\"}}, {\"selected\": false, \"data\": {\"target\": \"185\", \"weight\": 1.0, \"SUID\": 349, \"selected\": false, \"source\": \"146\", \"source_original\": \"56\", \"target_original\": \"95\", \"id\": \"349\"}}, {\"selected\": false, \"data\": {\"target\": \"109\", \"weight\": 1.0, \"SUID\": 348, \"selected\": false, \"source\": \"146\", \"source_original\": \"56\", \"target_original\": \"19\", \"id\": \"348\"}}, {\"selected\": false, \"data\": {\"target\": \"91\", \"weight\": 1.0, \"SUID\": 301, \"selected\": false, \"source\": \"146\", \"source_original\": \"56\", \"target_original\": \"1\", \"id\": \"301\"}}, {\"selected\": false, \"data\": {\"target\": \"168\", \"weight\": 1.0, \"SUID\": 297, \"selected\": false, \"source\": \"146\", \"source_original\": \"56\", \"target_original\": \"78\", \"id\": \"297\"}}, {\"selected\": false, \"data\": {\"target\": \"162\", \"weight\": 1.0, \"SUID\": 284, \"selected\": false, \"source\": \"146\", \"source_original\": \"56\", \"target_original\": \"72\", \"id\": \"284\"}}, {\"selected\": false, \"data\": {\"target\": \"147\", \"weight\": 1.0, \"SUID\": 247, \"selected\": false, \"source\": \"146\", \"source_original\": \"56\", \"target_original\": \"57\", \"id\": \"247\"}}, {\"selected\": false, \"data\": {\"target\": \"172\", \"weight\": 1.0, \"SUID\": 385, \"selected\": false, \"source\": \"145\", \"source_original\": \"55\", \"target_original\": \"82\", \"id\": \"385\"}}, {\"selected\": false, \"data\": {\"target\": \"95\", \"weight\": 1.0, \"SUID\": 379, \"selected\": false, \"source\": \"145\", \"source_original\": \"55\", \"target_original\": \"5\", \"id\": \"379\"}}, {\"selected\": false, \"data\": {\"target\": \"174\", \"weight\": 1.0, \"SUID\": 309, \"selected\": false, \"source\": \"145\", \"source_original\": \"55\", \"target_original\": \"84\", \"id\": \"309\"}}, {\"selected\": false, \"data\": {\"target\": \"130\", \"weight\": 1.0, \"SUID\": 295, \"selected\": false, \"source\": \"145\", \"source_original\": \"55\", \"target_original\": \"40\", \"id\": \"295\"}}, {\"selected\": false, \"data\": {\"target\": \"157\", \"weight\": 1.0, \"SUID\": 270, \"selected\": false, \"source\": \"145\", \"source_original\": \"55\", \"target_original\": \"67\", \"id\": \"270\"}}, {\"selected\": false, \"data\": {\"target\": \"136\", \"weight\": 1.0, \"SUID\": 250, \"selected\": false, \"source\": \"145\", \"source_original\": \"55\", \"target_original\": \"46\", \"id\": \"250\"}}, {\"selected\": false, \"data\": {\"target\": \"145\", \"weight\": 1.0, \"SUID\": 245, \"selected\": false, \"source\": \"144\", \"source_original\": \"54\", \"target_original\": \"55\", \"id\": \"245\"}}, {\"selected\": false, \"data\": {\"target\": \"187\", \"weight\": 1.0, \"SUID\": 374, \"selected\": false, \"source\": \"142\", \"source_original\": \"52\", \"target_original\": \"97\", \"id\": \"374\"}}, {\"selected\": false, \"data\": {\"target\": \"170\", \"weight\": 1.0, \"SUID\": 355, \"selected\": false, \"source\": \"142\", \"source_original\": \"52\", \"target_original\": \"80\", \"id\": \"355\"}}, {\"selected\": false, \"data\": {\"target\": \"95\", \"weight\": 1.0, \"SUID\": 321, \"selected\": false, \"source\": \"142\", \"source_original\": \"52\", \"target_original\": \"5\", \"id\": \"321\"}}, {\"selected\": false, \"data\": {\"target\": \"96\", \"weight\": 1.0, \"SUID\": 242, \"selected\": false, \"source\": \"142\", \"source_original\": \"52\", \"target_original\": \"6\", \"id\": \"242\"}}, {\"selected\": false, \"data\": {\"target\": \"194\", \"weight\": 1.0, \"SUID\": 396, \"selected\": false, \"source\": \"135\", \"source_original\": \"45\", \"target_original\": \"104\", \"id\": \"396\"}}, {\"selected\": false, \"data\": {\"target\": \"93\", \"weight\": 1.0, \"SUID\": 391, \"selected\": false, \"source\": \"135\", \"source_original\": \"45\", \"target_original\": \"3\", \"id\": \"391\"}}, {\"selected\": false, \"data\": {\"target\": \"146\", \"weight\": 1.0, \"SUID\": 346, \"selected\": false, \"source\": \"135\", \"source_original\": \"45\", \"target_original\": \"56\", \"id\": \"346\"}}, {\"selected\": false, \"data\": {\"target\": \"153\", \"weight\": 1.0, \"SUID\": 259, \"selected\": false, \"source\": \"135\", \"source_original\": \"45\", \"target_original\": \"63\", \"id\": \"259\"}}, {\"selected\": false, \"data\": {\"target\": \"143\", \"weight\": 1.0, \"SUID\": 244, \"selected\": false, \"source\": \"135\", \"source_original\": \"45\", \"target_original\": \"53\", \"id\": \"244\"}}, {\"selected\": false, \"data\": {\"target\": \"95\", \"weight\": 1.0, \"SUID\": 231, \"selected\": false, \"source\": \"135\", \"source_original\": \"45\", \"target_original\": \"5\", \"id\": \"231\"}}, {\"selected\": false, \"data\": {\"target\": \"100\", \"weight\": 1.0, \"SUID\": 401, \"selected\": false, \"source\": \"131\", \"source_original\": \"41\", \"target_original\": \"10\", \"id\": \"401\"}}, {\"selected\": false, \"data\": {\"target\": \"91\", \"weight\": 1.0, \"SUID\": 388, \"selected\": false, \"source\": \"131\", \"source_original\": \"41\", \"target_original\": \"1\", \"id\": \"388\"}}, {\"selected\": false, \"data\": {\"target\": \"128\", \"weight\": 1.0, \"SUID\": 324, \"selected\": false, \"source\": \"131\", \"source_original\": \"41\", \"target_original\": \"38\", \"id\": \"324\"}}, {\"selected\": false, \"data\": {\"target\": \"136\", \"weight\": 1.0, \"SUID\": 296, \"selected\": false, \"source\": \"131\", \"source_original\": \"41\", \"target_original\": \"46\", \"id\": \"296\"}}, {\"selected\": false, \"data\": {\"target\": \"160\", \"weight\": 1.0, \"SUID\": 278, \"selected\": false, \"source\": \"131\", \"source_original\": \"41\", \"target_original\": \"70\", \"id\": \"278\"}}, {\"selected\": false, \"data\": {\"target\": \"93\", \"weight\": 1.0, \"SUID\": 274, \"selected\": false, \"source\": \"131\", \"source_original\": \"41\", \"target_original\": \"3\", \"id\": \"274\"}}, {\"selected\": false, \"data\": {\"target\": \"143\", \"weight\": 1.0, \"SUID\": 272, \"selected\": false, \"source\": \"131\", \"source_original\": \"41\", \"target_original\": \"53\", \"id\": \"272\"}}, {\"selected\": false, \"data\": {\"target\": \"143\", \"weight\": 1.0, \"SUID\": 387, \"selected\": false, \"source\": \"130\", \"source_original\": \"40\", \"target_original\": \"53\", \"id\": \"387\"}}, {\"selected\": false, \"data\": {\"target\": \"95\", \"weight\": 1.0, \"SUID\": 383, \"selected\": false, \"source\": \"130\", \"source_original\": \"40\", \"target_original\": \"5\", \"id\": \"383\"}}, {\"selected\": false, \"data\": {\"target\": \"179\", \"weight\": 1.0, \"SUID\": 329, \"selected\": false, \"source\": \"130\", \"source_original\": \"40\", \"target_original\": \"89\", \"id\": \"329\"}}, {\"selected\": false, \"data\": {\"target\": \"165\", \"weight\": 1.0, \"SUID\": 327, \"selected\": false, \"source\": \"130\", \"source_original\": \"40\", \"target_original\": \"75\", \"id\": \"327\"}}, {\"selected\": false, \"data\": {\"target\": \"149\", \"weight\": 1.0, \"SUID\": 310, \"selected\": false, \"source\": \"130\", \"source_original\": \"40\", \"target_original\": \"59\", \"id\": \"310\"}}, {\"selected\": false, \"data\": {\"target\": \"136\", \"weight\": 1.0, \"SUID\": 233, \"selected\": false, \"source\": \"130\", \"source_original\": \"40\", \"target_original\": \"46\", \"id\": \"233\"}}, {\"selected\": false, \"data\": {\"target\": \"132\", \"weight\": 1.0, \"SUID\": 227, \"selected\": false, \"source\": \"130\", \"source_original\": \"40\", \"target_original\": \"42\", \"id\": \"227\"}}, {\"selected\": false, \"data\": {\"target\": \"131\", \"weight\": 1.0, \"SUID\": 226, \"selected\": false, \"source\": \"130\", \"source_original\": \"40\", \"target_original\": \"41\", \"id\": \"226\"}}, {\"selected\": false, \"data\": {\"target\": \"133\", \"weight\": 1.0, \"SUID\": 373, \"selected\": false, \"source\": \"129\", \"source_original\": \"39\", \"target_original\": \"43\", \"id\": \"373\"}}, {\"selected\": false, \"data\": {\"target\": \"143\", \"weight\": 1.0, \"SUID\": 362, \"selected\": false, \"source\": \"129\", \"source_original\": \"39\", \"target_original\": \"53\", \"id\": \"362\"}}, {\"selected\": false, \"data\": {\"target\": \"141\", \"weight\": 1.0, \"SUID\": 331, \"selected\": false, \"source\": \"129\", \"source_original\": \"39\", \"target_original\": \"51\", \"id\": \"331\"}}, {\"selected\": false, \"data\": {\"target\": \"158\", \"weight\": 1.0, \"SUID\": 326, \"selected\": false, \"source\": \"129\", \"source_original\": \"39\", \"target_original\": \"68\", \"id\": \"326\"}}, {\"selected\": false, \"data\": {\"target\": \"126\", \"weight\": 1.0, \"SUID\": 271, \"selected\": false, \"source\": \"129\", \"source_original\": \"39\", \"target_original\": \"36\", \"id\": \"271\"}}, {\"selected\": false, \"data\": {\"target\": \"150\", \"weight\": 1.0, \"SUID\": 254, \"selected\": false, \"source\": \"129\", \"source_original\": \"39\", \"target_original\": \"60\", \"id\": \"254\"}}, {\"selected\": false, \"data\": {\"target\": \"140\", \"weight\": 1.0, \"SUID\": 240, \"selected\": false, \"source\": \"129\", \"source_original\": \"39\", \"target_original\": \"50\", \"id\": \"240\"}}, {\"selected\": false, \"data\": {\"target\": \"91\", \"weight\": 1.0, \"SUID\": 224, \"selected\": false, \"source\": \"129\", \"source_original\": \"39\", \"target_original\": \"1\", \"id\": \"224\"}}, {\"selected\": false, \"data\": {\"target\": \"114\", \"weight\": 1.0, \"SUID\": 223, \"selected\": false, \"source\": \"129\", \"source_original\": \"39\", \"target_original\": \"24\", \"id\": \"223\"}}, {\"selected\": false, \"data\": {\"target\": \"129\", \"weight\": 1.0, \"SUID\": 381, \"selected\": false, \"source\": \"125\", \"source_original\": \"35\", \"target_original\": \"39\", \"id\": \"381\"}}, {\"selected\": false, \"data\": {\"target\": \"114\", \"weight\": 1.0, \"SUID\": 372, \"selected\": false, \"source\": \"125\", \"source_original\": \"35\", \"target_original\": \"24\", \"id\": \"372\"}}, {\"selected\": false, \"data\": {\"target\": \"188\", \"weight\": 1.0, \"SUID\": 364, \"selected\": false, \"source\": \"125\", \"source_original\": \"35\", \"target_original\": \"98\", \"id\": \"364\"}}, {\"selected\": false, \"data\": {\"target\": \"140\", \"weight\": 1.0, \"SUID\": 347, \"selected\": false, \"source\": \"125\", \"source_original\": \"35\", \"target_original\": \"50\", \"id\": \"347\"}}, {\"selected\": false, \"data\": {\"target\": \"150\", \"weight\": 1.0, \"SUID\": 339, \"selected\": false, \"source\": \"125\", \"source_original\": \"35\", \"target_original\": \"60\", \"id\": \"339\"}}, {\"selected\": false, \"data\": {\"target\": \"95\", \"weight\": 1.0, \"SUID\": 335, \"selected\": false, \"source\": \"125\", \"source_original\": \"35\", \"target_original\": \"5\", \"id\": \"335\"}}, {\"selected\": false, \"data\": {\"target\": \"169\", \"weight\": 1.0, \"SUID\": 298, \"selected\": false, \"source\": \"125\", \"source_original\": \"35\", \"target_original\": \"79\", \"id\": \"298\"}}, {\"selected\": false, \"data\": {\"target\": \"93\", \"weight\": 1.0, \"SUID\": 291, \"selected\": false, \"source\": \"125\", \"source_original\": \"35\", \"target_original\": \"3\", \"id\": \"291\"}}, {\"selected\": false, \"data\": {\"target\": \"126\", \"weight\": 1.0, \"SUID\": 219, \"selected\": false, \"source\": \"125\", \"source_original\": \"35\", \"target_original\": \"36\", \"id\": \"219\"}}, {\"selected\": false, \"data\": {\"target\": \"186\", \"weight\": 1.0, \"SUID\": 356, \"selected\": false, \"source\": \"122\", \"source_original\": \"32\", \"target_original\": \"96\", \"id\": \"356\"}}, {\"selected\": false, \"data\": {\"target\": \"182\", \"weight\": 1.0, \"SUID\": 340, \"selected\": false, \"source\": \"122\", \"source_original\": \"32\", \"target_original\": \"92\", \"id\": \"340\"}}, {\"selected\": false, \"data\": {\"target\": \"121\", \"weight\": 1.0, \"SUID\": 336, \"selected\": false, \"source\": \"122\", \"source_original\": \"32\", \"target_original\": \"31\", \"id\": \"336\"}}, {\"selected\": false, \"data\": {\"target\": \"134\", \"weight\": 1.0, \"SUID\": 280, \"selected\": false, \"source\": \"122\", \"source_original\": \"32\", \"target_original\": \"44\", \"id\": \"280\"}}, {\"selected\": false, \"data\": {\"target\": \"148\", \"weight\": 1.0, \"SUID\": 257, \"selected\": false, \"source\": \"122\", \"source_original\": \"32\", \"target_original\": \"58\", \"id\": \"257\"}}, {\"selected\": false, \"data\": {\"target\": \"144\", \"weight\": 1.0, \"SUID\": 251, \"selected\": false, \"source\": \"122\", \"source_original\": \"32\", \"target_original\": \"54\", \"id\": \"251\"}}, {\"selected\": false, \"data\": {\"target\": \"123\", \"weight\": 1.0, \"SUID\": 216, \"selected\": false, \"source\": \"122\", \"source_original\": \"32\", \"target_original\": \"33\", \"id\": \"216\"}}, {\"selected\": false, \"data\": {\"target\": \"143\", \"weight\": 3.0, \"SUID\": 386, \"selected\": false, \"source\": \"118\", \"source_original\": \"28\", \"target_original\": \"53\", \"id\": \"386\"}}, {\"selected\": false, \"data\": {\"target\": \"133\", \"weight\": 1.0, \"SUID\": 377, \"selected\": false, \"source\": \"118\", \"source_original\": \"28\", \"target_original\": \"43\", \"id\": \"377\"}}, {\"selected\": false, \"data\": {\"target\": \"167\", \"weight\": 1.0, \"SUID\": 375, \"selected\": false, \"source\": \"118\", \"source_original\": \"28\", \"target_original\": \"77\", \"id\": \"375\"}}, {\"selected\": false, \"data\": {\"target\": \"184\", \"weight\": 1.0, \"SUID\": 343, \"selected\": false, \"source\": \"118\", \"source_original\": \"28\", \"target_original\": \"94\", \"id\": \"343\"}}, {\"selected\": false, \"data\": {\"target\": \"165\", \"weight\": 1.0, \"SUID\": 316, \"selected\": false, \"source\": \"118\", \"source_original\": \"28\", \"target_original\": \"75\", \"id\": \"316\"}}, {\"selected\": false, \"data\": {\"target\": \"93\", \"weight\": 1.0, \"SUID\": 261, \"selected\": false, \"source\": \"118\", \"source_original\": \"28\", \"target_original\": \"3\", \"id\": \"261\"}}, {\"selected\": false, \"data\": {\"target\": \"91\", \"weight\": 1.0, \"SUID\": 255, \"selected\": false, \"source\": \"118\", \"source_original\": \"28\", \"target_original\": \"1\", \"id\": \"255\"}}, {\"selected\": false, \"data\": {\"target\": \"149\", \"weight\": 1.0, \"SUID\": 252, \"selected\": false, \"source\": \"118\", \"source_original\": \"28\", \"target_original\": \"59\", \"id\": \"252\"}}, {\"selected\": false, \"data\": {\"target\": \"141\", \"weight\": 1.0, \"SUID\": 241, \"selected\": false, \"source\": \"118\", \"source_original\": \"28\", \"target_original\": \"51\", \"id\": \"241\"}}, {\"selected\": false, \"data\": {\"target\": \"119\", \"weight\": 1.0, \"SUID\": 213, \"selected\": false, \"source\": \"118\", \"source_original\": \"28\", \"target_original\": \"29\", \"id\": \"213\"}}, {\"selected\": false, \"data\": {\"target\": \"177\", \"weight\": 1.0, \"SUID\": 399, \"selected\": false, \"source\": \"115\", \"source_original\": \"25\", \"target_original\": \"87\", \"id\": \"399\"}}, {\"selected\": false, \"data\": {\"target\": \"176\", \"weight\": 1.0, \"SUID\": 319, \"selected\": false, \"source\": \"115\", \"source_original\": \"25\", \"target_original\": \"86\", \"id\": \"319\"}}, {\"selected\": false, \"data\": {\"target\": \"91\", \"weight\": 1.0, \"SUID\": 303, \"selected\": false, \"source\": \"115\", \"source_original\": \"25\", \"target_original\": \"1\", \"id\": \"303\"}}, {\"selected\": false, \"data\": {\"target\": \"163\", \"weight\": 1.0, \"SUID\": 285, \"selected\": false, \"source\": \"115\", \"source_original\": \"25\", \"target_original\": \"73\", \"id\": \"285\"}}, {\"selected\": false, \"data\": {\"target\": \"161\", \"weight\": 3.0, \"SUID\": 283, \"selected\": false, \"source\": \"115\", \"source_original\": \"25\", \"target_original\": \"71\", \"id\": \"283\"}}, {\"selected\": false, \"data\": {\"target\": \"143\", \"weight\": 1.0, \"SUID\": 282, \"selected\": false, \"source\": \"115\", \"source_original\": \"25\", \"target_original\": \"53\", \"id\": \"282\"}}, {\"selected\": false, \"data\": {\"target\": \"117\", \"weight\": 1.0, \"SUID\": 212, \"selected\": false, \"source\": \"115\", \"source_original\": \"25\", \"target_original\": \"27\", \"id\": \"212\"}}, {\"selected\": false, \"data\": {\"target\": \"116\", \"weight\": 1.0, \"SUID\": 211, \"selected\": false, \"source\": \"115\", \"source_original\": \"25\", \"target_original\": \"26\", \"id\": \"211\"}}, {\"selected\": false, \"data\": {\"target\": \"143\", \"weight\": 1.0, \"SUID\": 369, \"selected\": false, \"source\": \"113\", \"source_original\": \"23\", \"target_original\": \"53\", \"id\": \"369\"}}, {\"selected\": false, \"data\": {\"target\": \"91\", \"weight\": 1.0, \"SUID\": 221, \"selected\": false, \"source\": \"113\", \"source_original\": \"23\", \"target_original\": \"1\", \"id\": \"221\"}}, {\"selected\": false, \"data\": {\"target\": \"114\", \"weight\": 1.0, \"SUID\": 210, \"selected\": false, \"source\": \"113\", \"source_original\": \"23\", \"target_original\": \"24\", \"id\": \"210\"}}, {\"selected\": false, \"data\": {\"target\": \"196\", \"weight\": 1.0, \"SUID\": 402, \"selected\": false, \"source\": \"109\", \"source_original\": \"19\", \"target_original\": \"106\", \"id\": \"402\"}}, {\"selected\": false, \"data\": {\"target\": \"195\", \"weight\": 1.0, \"SUID\": 397, \"selected\": false, \"source\": \"109\", \"source_original\": \"19\", \"target_original\": \"105\", \"id\": \"397\"}}, {\"selected\": false, \"data\": {\"target\": \"117\", \"weight\": 1.0, \"SUID\": 389, \"selected\": false, \"source\": \"109\", \"source_original\": \"19\", \"target_original\": \"27\", \"id\": \"389\"}}, {\"selected\": false, \"data\": {\"target\": \"114\", \"weight\": 3.0, \"SUID\": 354, \"selected\": false, \"source\": \"109\", \"source_original\": \"19\", \"target_original\": \"24\", \"id\": \"354\"}}, {\"selected\": false, \"data\": {\"target\": \"91\", \"weight\": 1.0, \"SUID\": 350, \"selected\": false, \"source\": \"109\", \"source_original\": \"19\", \"target_original\": \"1\", \"id\": \"350\"}}, {\"selected\": false, \"data\": {\"target\": \"181\", \"weight\": 1.0, \"SUID\": 334, \"selected\": false, \"source\": \"109\", \"source_original\": \"19\", \"target_original\": \"91\", \"id\": \"334\"}}, {\"selected\": false, \"data\": {\"target\": \"112\", \"weight\": 1.0, \"SUID\": 315, \"selected\": false, \"source\": \"109\", \"source_original\": \"19\", \"target_original\": \"22\", \"id\": \"315\"}}, {\"selected\": false, \"data\": {\"target\": \"137\", \"weight\": 2.0, \"SUID\": 234, \"selected\": false, \"source\": \"109\", \"source_original\": \"19\", \"target_original\": \"47\", \"id\": \"234\"}}, {\"selected\": false, \"data\": {\"target\": \"120\", \"weight\": 1.0, \"SUID\": 214, \"selected\": false, \"source\": \"109\", \"source_original\": \"19\", \"target_original\": \"30\", \"id\": \"214\"}}, {\"selected\": false, \"data\": {\"target\": \"110\", \"weight\": 1.0, \"SUID\": 207, \"selected\": false, \"source\": \"109\", \"source_original\": \"19\", \"target_original\": \"20\", \"id\": \"207\"}}, {\"selected\": false, \"data\": {\"target\": \"187\", \"weight\": 1.0, \"SUID\": 363, \"selected\": false, \"source\": \"107\", \"source_original\": \"17\", \"target_original\": \"97\", \"id\": \"363\"}}, {\"selected\": false, \"data\": {\"target\": \"178\", \"weight\": 1.0, \"SUID\": 322, \"selected\": false, \"source\": \"107\", \"source_original\": \"17\", \"target_original\": \"88\", \"id\": \"322\"}}, {\"selected\": false, \"data\": {\"target\": \"95\", \"weight\": 1.0, \"SUID\": 318, \"selected\": false, \"source\": \"107\", \"source_original\": \"17\", \"target_original\": \"5\", \"id\": \"318\"}}, {\"selected\": false, \"data\": {\"target\": \"108\", \"weight\": 1.0, \"SUID\": 206, \"selected\": false, \"source\": \"107\", \"source_original\": \"17\", \"target_original\": \"18\", \"id\": \"206\"}}, {\"selected\": false, \"data\": {\"target\": \"95\", \"weight\": 1.0, \"SUID\": 395, \"selected\": false, \"source\": \"105\", \"source_original\": \"15\", \"target_original\": \"5\", \"id\": \"395\"}}, {\"selected\": false, \"data\": {\"target\": \"152\", \"weight\": 1.0, \"SUID\": 338, \"selected\": false, \"source\": \"105\", \"source_original\": \"15\", \"target_original\": \"62\", \"id\": \"338\"}}, {\"selected\": false, \"data\": {\"target\": \"139\", \"weight\": 1.0, \"SUID\": 332, \"selected\": false, \"source\": \"105\", \"source_original\": \"15\", \"target_original\": \"49\", \"id\": \"332\"}}, {\"selected\": false, \"data\": {\"target\": \"154\", \"weight\": 1.0, \"SUID\": 262, \"selected\": false, \"source\": \"105\", \"source_original\": \"15\", \"target_original\": \"64\", \"id\": \"262\"}}, {\"selected\": false, \"data\": {\"target\": \"138\", \"weight\": 1.0, \"SUID\": 243, \"selected\": false, \"source\": \"105\", \"source_original\": \"15\", \"target_original\": \"48\", \"id\": \"243\"}}, {\"selected\": false, \"data\": {\"target\": \"112\", \"weight\": 1.0, \"SUID\": 209, \"selected\": false, \"source\": \"105\", \"source_original\": \"15\", \"target_original\": \"22\", \"id\": \"209\"}}, {\"selected\": false, \"data\": {\"target\": \"106\", \"weight\": 1.0, \"SUID\": 205, \"selected\": false, \"source\": \"105\", \"source_original\": \"15\", \"target_original\": \"16\", \"id\": \"205\"}}, {\"selected\": false, \"data\": {\"target\": \"118\", \"weight\": 1.0, \"SUID\": 305, \"selected\": false, \"source\": \"104\", \"source_original\": \"14\", \"target_original\": \"28\", \"id\": \"305\"}}, {\"selected\": false, \"data\": {\"target\": \"136\", \"weight\": 1.0, \"SUID\": 269, \"selected\": false, \"source\": \"104\", \"source_original\": \"14\", \"target_original\": \"46\", \"id\": \"269\"}}, {\"selected\": false, \"data\": {\"target\": \"90\", \"weight\": 1.0, \"SUID\": 239, \"selected\": false, \"source\": \"104\", \"source_original\": \"14\", \"target_original\": \"0\", \"id\": \"239\"}}, {\"selected\": false, \"data\": {\"target\": \"95\", \"weight\": 1.0, \"SUID\": 235, \"selected\": false, \"source\": \"104\", \"source_original\": \"14\", \"target_original\": \"5\", \"id\": \"235\"}}, {\"selected\": false, \"data\": {\"target\": \"125\", \"weight\": 1.0, \"SUID\": 232, \"selected\": false, \"source\": \"104\", \"source_original\": \"14\", \"target_original\": \"35\", \"id\": \"232\"}}, {\"selected\": false, \"data\": {\"target\": \"115\", \"weight\": 1.0, \"SUID\": 229, \"selected\": false, \"source\": \"104\", \"source_original\": \"14\", \"target_original\": \"25\", \"id\": \"229\"}}, {\"selected\": false, \"data\": {\"target\": \"95\", \"weight\": 1.0, \"SUID\": 345, \"selected\": false, \"source\": \"103\", \"source_original\": \"13\", \"target_original\": \"5\", \"id\": \"345\"}}, {\"selected\": false, \"data\": {\"target\": \"108\", \"weight\": 2.0, \"SUID\": 225, \"selected\": false, \"source\": \"103\", \"source_original\": \"13\", \"target_original\": \"18\", \"id\": \"225\"}}, {\"selected\": false, \"data\": {\"target\": \"134\", \"weight\": 1.0, \"SUID\": 400, \"selected\": false, \"source\": \"102\", \"source_original\": \"12\", \"target_original\": \"44\", \"id\": \"400\"}}, {\"selected\": false, \"data\": {\"target\": \"144\", \"weight\": 1.0, \"SUID\": 367, \"selected\": false, \"source\": \"102\", \"source_original\": \"12\", \"target_original\": \"54\", \"id\": \"367\"}}, {\"selected\": false, \"data\": {\"target\": \"182\", \"weight\": 1.0, \"SUID\": 359, \"selected\": false, \"source\": \"102\", \"source_original\": \"12\", \"target_original\": \"92\", \"id\": \"359\"}}, {\"selected\": false, \"data\": {\"target\": \"108\", \"weight\": 1.0, \"SUID\": 353, \"selected\": false, \"source\": \"102\", \"source_original\": \"12\", \"target_original\": \"18\", \"id\": \"353\"}}, {\"selected\": false, \"data\": {\"target\": \"121\", \"weight\": 1.0, \"SUID\": 277, \"selected\": false, \"source\": \"102\", \"source_original\": \"12\", \"target_original\": \"31\", \"id\": \"277\"}}, {\"selected\": false, \"data\": {\"target\": \"123\", \"weight\": 1.0, \"SUID\": 273, \"selected\": false, \"source\": \"102\", \"source_original\": \"12\", \"target_original\": \"33\", \"id\": \"273\"}}, {\"selected\": false, \"data\": {\"target\": \"103\", \"weight\": 1.0, \"SUID\": 203, \"selected\": false, \"source\": \"102\", \"source_original\": \"12\", \"target_original\": \"13\", \"id\": \"203\"}}, {\"selected\": false, \"data\": {\"target\": \"91\", \"weight\": 1.0, \"SUID\": 382, \"selected\": false, \"source\": \"101\", \"source_original\": \"11\", \"target_original\": \"1\", \"id\": \"382\"}}, {\"selected\": false, \"data\": {\"target\": \"169\", \"weight\": 1.0, \"SUID\": 299, \"selected\": false, \"source\": \"101\", \"source_original\": \"11\", \"target_original\": \"79\", \"id\": \"299\"}}, {\"selected\": false, \"data\": {\"target\": \"191\", \"weight\": 1.0, \"SUID\": 380, \"selected\": false, \"source\": \"100\", \"source_original\": \"10\", \"target_original\": \"101\", \"id\": \"380\"}}, {\"selected\": false, \"data\": {\"target\": \"110\", \"weight\": 1.0, \"SUID\": 357, \"selected\": false, \"source\": \"100\", \"source_original\": \"10\", \"target_original\": \"20\", \"id\": \"357\"}}, {\"selected\": false, \"data\": {\"target\": \"183\", \"weight\": 1.0, \"SUID\": 342, \"selected\": false, \"source\": \"100\", \"source_original\": \"10\", \"target_original\": \"93\", \"id\": \"342\"}}, {\"selected\": false, \"data\": {\"target\": \"180\", \"weight\": 1.0, \"SUID\": 333, \"selected\": false, \"source\": \"100\", \"source_original\": \"10\", \"target_original\": \"90\", \"id\": \"333\"}}, {\"selected\": false, \"data\": {\"target\": \"91\", \"weight\": 1.0, \"SUID\": 325, \"selected\": false, \"source\": \"100\", \"source_original\": \"10\", \"target_original\": \"1\", \"id\": \"325\"}}, {\"selected\": false, \"data\": {\"target\": \"136\", \"weight\": 1.0, \"SUID\": 300, \"selected\": false, \"source\": \"100\", \"source_original\": \"10\", \"target_original\": \"46\", \"id\": \"300\"}}, {\"selected\": false, \"data\": {\"target\": \"93\", \"weight\": 1.0, \"SUID\": 260, \"selected\": false, \"source\": \"100\", \"source_original\": \"10\", \"target_original\": \"3\", \"id\": \"260\"}}, {\"selected\": false, \"data\": {\"target\": \"124\", \"weight\": 1.0, \"SUID\": 218, \"selected\": false, \"source\": \"100\", \"source_original\": \"10\", \"target_original\": \"34\", \"id\": \"218\"}}, {\"selected\": false, \"data\": {\"target\": \"101\", \"weight\": 1.0, \"SUID\": 202, \"selected\": false, \"source\": \"100\", \"source_original\": \"10\", \"target_original\": \"11\", \"id\": \"202\"}}, {\"selected\": false, \"data\": {\"target\": \"145\", \"weight\": 1.0, \"SUID\": 390, \"selected\": false, \"source\": \"98\", \"source_original\": \"8\", \"target_original\": \"55\", \"id\": \"390\"}}, {\"selected\": false, \"data\": {\"target\": \"112\", \"weight\": 5.0, \"SUID\": 361, \"selected\": false, \"source\": \"98\", \"source_original\": \"8\", \"target_original\": \"22\", \"id\": \"361\"}}, {\"selected\": false, \"data\": {\"target\": \"177\", \"weight\": 1.0, \"SUID\": 320, \"selected\": false, \"source\": \"98\", \"source_original\": \"8\", \"target_original\": \"87\", \"id\": \"320\"}}, {\"selected\": false, \"data\": {\"target\": \"173\", \"weight\": 2.0, \"SUID\": 308, \"selected\": false, \"source\": \"98\", \"source_original\": \"8\", \"target_original\": \"83\", \"id\": \"308\"}}, {\"selected\": false, \"data\": {\"target\": \"107\", \"weight\": 1.0, \"SUID\": 306, \"selected\": false, \"source\": \"98\", \"source_original\": \"8\", \"target_original\": \"17\", \"id\": \"306\"}}, {\"selected\": false, \"data\": {\"target\": \"156\", \"weight\": 1.0, \"SUID\": 268, \"selected\": false, \"source\": \"98\", \"source_original\": \"8\", \"target_original\": \"66\", \"id\": \"268\"}}, {\"selected\": false, \"data\": {\"target\": \"154\", \"weight\": 10.0, \"SUID\": 264, \"selected\": false, \"source\": \"98\", \"source_original\": \"8\", \"target_original\": \"64\", \"id\": \"264\"}}, {\"selected\": false, \"data\": {\"target\": \"152\", \"weight\": 5.0, \"SUID\": 258, \"selected\": false, \"source\": \"98\", \"source_original\": \"8\", \"target_original\": \"62\", \"id\": \"258\"}}, {\"selected\": false, \"data\": {\"target\": \"128\", \"weight\": 1.0, \"SUID\": 222, \"selected\": false, \"source\": \"98\", \"source_original\": \"8\", \"target_original\": \"38\", \"id\": \"222\"}}, {\"selected\": false, \"data\": {\"target\": \"127\", \"weight\": 1.0, \"SUID\": 220, \"selected\": false, \"source\": \"98\", \"source_original\": \"8\", \"target_original\": \"37\", \"id\": \"220\"}}, {\"selected\": false, \"data\": {\"target\": \"95\", \"weight\": 1.0, \"SUID\": 217, \"selected\": false, \"source\": \"98\", \"source_original\": \"8\", \"target_original\": \"5\", \"id\": \"217\"}}, {\"selected\": false, \"data\": {\"target\": \"99\", \"weight\": 1.0, \"SUID\": 201, \"selected\": false, \"source\": \"98\", \"source_original\": \"8\", \"target_original\": \"9\", \"id\": \"201\"}}, {\"selected\": false, \"data\": {\"target\": \"154\", \"weight\": 1.0, \"SUID\": 398, \"selected\": false, \"source\": \"96\", \"source_original\": \"6\", \"target_original\": \"64\", \"id\": \"398\"}}, {\"selected\": false, \"data\": {\"target\": \"111\", \"weight\": 1.0, \"SUID\": 208, \"selected\": false, \"source\": \"96\", \"source_original\": \"6\", \"target_original\": \"21\", \"id\": \"208\"}}, {\"selected\": false, \"data\": {\"target\": \"97\", \"weight\": 1.0, \"SUID\": 200, \"selected\": false, \"source\": \"96\", \"source_original\": \"6\", \"target_original\": \"7\", \"id\": \"200\"}}, {\"selected\": false, \"data\": {\"target\": \"187\", \"weight\": 1.0, \"SUID\": 371, \"selected\": false, \"source\": \"94\", \"source_original\": \"4\", \"target_original\": \"97\", \"id\": \"371\"}}, {\"selected\": false, \"data\": {\"target\": \"170\", \"weight\": 2.0, \"SUID\": 368, \"selected\": false, \"source\": \"94\", \"source_original\": \"4\", \"target_original\": \"80\", \"id\": \"368\"}}, {\"selected\": false, \"data\": {\"target\": \"142\", \"weight\": 1.0, \"SUID\": 358, \"selected\": false, \"source\": \"94\", \"source_original\": \"4\", \"target_original\": \"52\", \"id\": \"358\"}}, {\"selected\": false, \"data\": {\"target\": \"96\", \"weight\": 1.0, \"SUID\": 317, \"selected\": false, \"source\": \"94\", \"source_original\": \"4\", \"target_original\": \"6\", \"id\": \"317\"}}, {\"selected\": false, \"data\": {\"target\": \"171\", \"weight\": 1.0, \"SUID\": 304, \"selected\": false, \"source\": \"94\", \"source_original\": \"4\", \"target_original\": \"81\", \"id\": \"304\"}}, {\"selected\": false, \"data\": {\"target\": \"121\", \"weight\": 2.0, \"SUID\": 290, \"selected\": false, \"source\": \"94\", \"source_original\": \"4\", \"target_original\": \"31\", \"id\": \"290\"}}, {\"selected\": false, \"data\": {\"target\": \"123\", \"weight\": 2.0, \"SUID\": 279, \"selected\": false, \"source\": \"94\", \"source_original\": \"4\", \"target_original\": \"33\", \"id\": \"279\"}}, {\"selected\": false, \"data\": {\"target\": \"155\", \"weight\": 1.0, \"SUID\": 266, \"selected\": false, \"source\": \"94\", \"source_original\": \"4\", \"target_original\": \"65\", \"id\": \"266\"}}, {\"selected\": false, \"data\": {\"target\": \"143\", \"weight\": 1.0, \"SUID\": 249, \"selected\": false, \"source\": \"94\", \"source_original\": \"4\", \"target_original\": \"53\", \"id\": \"249\"}}, {\"selected\": false, \"data\": {\"target\": \"139\", \"weight\": 1.0, \"SUID\": 238, \"selected\": false, \"source\": \"94\", \"source_original\": \"4\", \"target_original\": \"49\", \"id\": \"238\"}}, {\"selected\": false, \"data\": {\"target\": \"134\", \"weight\": 1.0, \"SUID\": 230, \"selected\": false, \"source\": \"94\", \"source_original\": \"4\", \"target_original\": \"44\", \"id\": \"230\"}}, {\"selected\": false, \"data\": {\"target\": \"104\", \"weight\": 1.0, \"SUID\": 204, \"selected\": false, \"source\": \"94\", \"source_original\": \"4\", \"target_original\": \"14\", \"id\": \"204\"}}, {\"selected\": false, \"data\": {\"target\": \"95\", \"weight\": 1.0, \"SUID\": 199, \"selected\": false, \"source\": \"94\", \"source_original\": \"4\", \"target_original\": \"5\", \"id\": \"199\"}}, {\"selected\": false, \"data\": {\"target\": \"105\", \"weight\": 8.0, \"SUID\": 376, \"selected\": false, \"source\": \"92\", \"source_original\": \"2\", \"target_original\": \"15\", \"id\": \"376\"}}, {\"selected\": false, \"data\": {\"target\": \"171\", \"weight\": 1.0, \"SUID\": 360, \"selected\": false, \"source\": \"92\", \"source_original\": \"2\", \"target_original\": \"81\", \"id\": \"360\"}}, {\"selected\": false, \"data\": {\"target\": \"139\", \"weight\": 1.0, \"SUID\": 352, \"selected\": false, \"source\": \"92\", \"source_original\": \"2\", \"target_original\": \"49\", \"id\": \"352\"}}, {\"selected\": false, \"data\": {\"target\": \"106\", \"weight\": 1.0, \"SUID\": 323, \"selected\": false, \"source\": \"92\", \"source_original\": \"2\", \"target_original\": \"16\", \"id\": \"323\"}}, {\"selected\": false, \"data\": {\"target\": \"134\", \"weight\": 1.0, \"SUID\": 314, \"selected\": false, \"source\": \"92\", \"source_original\": \"2\", \"target_original\": \"44\", \"id\": \"314\"}}, {\"selected\": false, \"data\": {\"target\": \"95\", \"weight\": 1.0, \"SUID\": 313, \"selected\": false, \"source\": \"92\", \"source_original\": \"2\", \"target_original\": \"5\", \"id\": \"313\"}}, {\"selected\": false, \"data\": {\"target\": \"144\", \"weight\": 1.0, \"SUID\": 281, \"selected\": false, \"source\": \"92\", \"source_original\": \"2\", \"target_original\": \"54\", \"id\": \"281\"}}, {\"selected\": false, \"data\": {\"target\": \"152\", \"weight\": 1.0, \"SUID\": 267, \"selected\": false, \"source\": \"92\", \"source_original\": \"2\", \"target_original\": \"62\", \"id\": \"267\"}}, {\"selected\": false, \"data\": {\"target\": \"154\", \"weight\": 1.0, \"SUID\": 263, \"selected\": false, \"source\": \"92\", \"source_original\": \"2\", \"target_original\": \"64\", \"id\": \"263\"}}, {\"selected\": false, \"data\": {\"target\": \"151\", \"weight\": 1.0, \"SUID\": 256, \"selected\": false, \"source\": \"92\", \"source_original\": \"2\", \"target_original\": \"61\", \"id\": \"256\"}}, {\"selected\": false, \"data\": {\"target\": \"123\", \"weight\": 1.0, \"SUID\": 253, \"selected\": false, \"source\": \"92\", \"source_original\": \"2\", \"target_original\": \"33\", \"id\": \"253\"}}, {\"selected\": false, \"data\": {\"target\": \"112\", \"weight\": 1.0, \"SUID\": 246, \"selected\": false, \"source\": \"92\", \"source_original\": \"2\", \"target_original\": \"22\", \"id\": \"246\"}}, {\"selected\": false, \"data\": {\"target\": \"138\", \"weight\": 1.0, \"SUID\": 236, \"selected\": false, \"source\": \"92\", \"source_original\": \"2\", \"target_original\": \"48\", \"id\": \"236\"}}, {\"selected\": false, \"data\": {\"target\": \"121\", \"weight\": 2.0, \"SUID\": 215, \"selected\": false, \"source\": \"92\", \"source_original\": \"2\", \"target_original\": \"31\", \"id\": \"215\"}}, {\"selected\": false, \"data\": {\"target\": \"93\", \"weight\": 1.0, \"SUID\": 198, \"selected\": false, \"source\": \"92\", \"source_original\": \"2\", \"target_original\": \"3\", \"id\": \"198\"}}, {\"selected\": false, \"data\": {\"target\": \"193\", \"weight\": 1.0, \"SUID\": 394, \"selected\": false, \"source\": \"90\", \"source_original\": \"0\", \"target_original\": \"103\", \"id\": \"394\"}}, {\"selected\": false, \"data\": {\"target\": \"93\", \"weight\": 1.0, \"SUID\": 393, \"selected\": false, \"source\": \"90\", \"source_original\": \"0\", \"target_original\": \"3\", \"id\": \"393\"}}, {\"selected\": false, \"data\": {\"target\": \"192\", \"weight\": 1.0, \"SUID\": 392, \"selected\": false, \"source\": \"90\", \"source_original\": \"0\", \"target_original\": \"102\", \"id\": \"392\"}}, {\"selected\": false, \"data\": {\"target\": \"189\", \"weight\": 1.0, \"SUID\": 366, \"selected\": false, \"source\": \"90\", \"source_original\": \"0\", \"target_original\": \"99\", \"id\": \"366\"}}, {\"selected\": false, \"data\": {\"target\": \"149\", \"weight\": 1.0, \"SUID\": 328, \"selected\": false, \"source\": \"90\", \"source_original\": \"0\", \"target_original\": \"59\", \"id\": \"328\"}}, {\"selected\": false, \"data\": {\"target\": \"167\", \"weight\": 2.0, \"SUID\": 294, \"selected\": false, \"source\": \"90\", \"source_original\": \"0\", \"target_original\": \"77\", \"id\": \"294\"}}, {\"selected\": false, \"data\": {\"target\": \"114\", \"weight\": 1.0, \"SUID\": 292, \"selected\": false, \"source\": \"90\", \"source_original\": \"0\", \"target_original\": \"24\", \"id\": \"292\"}}, {\"selected\": false, \"data\": {\"target\": \"165\", \"weight\": 1.0, \"SUID\": 288, \"selected\": false, \"source\": \"90\", \"source_original\": \"0\", \"target_original\": \"75\", \"id\": \"288\"}}, {\"selected\": false, \"data\": {\"target\": \"143\", \"weight\": 1.0, \"SUID\": 265, \"selected\": false, \"source\": \"90\", \"source_original\": \"0\", \"target_original\": \"53\", \"id\": \"265\"}}, {\"selected\": false, \"data\": {\"target\": \"135\", \"weight\": 1.0, \"SUID\": 237, \"selected\": false, \"source\": \"90\", \"source_original\": \"0\", \"target_original\": \"45\", \"id\": \"237\"}}, {\"selected\": false, \"data\": {\"target\": \"133\", \"weight\": 1.0, \"SUID\": 228, \"selected\": false, \"source\": \"90\", \"source_original\": \"0\", \"target_original\": \"43\", \"id\": \"228\"}}, {\"selected\": false, \"data\": {\"target\": \"91\", \"weight\": 1.0, \"SUID\": 197, \"selected\": false, \"source\": \"90\", \"source_original\": \"0\", \"target_original\": \"1\", \"id\": \"197\"}}]\n",
       "            },\n",
       "\n",
       "            layout: {\n",
       "                name: 'preset'\n",
       "            },\n",
       "\n",
       "            boxSelectionEnabled: true,\n",
       "\n",
       "            ready: function() {\n",
       "                window.cy = this;\n",
       "                cy.fit();\n",
       "                cy.style().fromJson([{\"css\": {\"text-opacity\": 1.0, \"font-size\": 12, \"font-weight\": \"normal\", \"background-opacity\": 1.0, \"border-color\": \"rgb(0,0,0)\", \"border-width\": 0.0, \"height\": 55.0, \"content\": \"data(label)\", \"width\": 55.0, \"shape\": \"ellipse\", \"background-color\": \"rgb(106,172,184)\", \"border-opacity\": 1.0, \"font-family\": \"SansSerif\", \"text-valign\": \"center\", \"text-halign\": \"center\", \"color\": \"rgb(85,85,85)\"}, \"selector\": \"node\"}, {\"css\": {\"background-color\": \"rgb(255,255,0)\"}, \"selector\": \"node:selected\"}, {\"css\": {\"opacity\": 0.39215686274509803, \"source-arrow-shape\": \"none\", \"line-color\": \"rgb(51,51,51)\", \"font-weight\": \"normal\", \"target-arrow-shape\": \"none\", \"text-opacity\": 1.0, \"color\": \"rgb(0,0,0)\", \"source-arrow-color\": \"rgb(0,0,0)\", \"font-size\": 10, \"content\": \"\", \"width\": 2.0, \"line-style\": \"solid\", \"font-family\": \"SansSerif\", \"target-arrow-color\": \"rgb(0,0,0)\"}, \"selector\": \"edge\"}, {\"css\": {\"line-color\": \"rgb(255,0,0)\"}, \"selector\": \"edge:selected\"}]).update();\n",
       "            }\n",
       "        });\n",
       "      }\n",
       "\n",
       "      var before_render = function(){\n",
       "        if(window['cytoscape'] === undefined){\n",
       "          console.log(\"Waiting for Cyjs...\");\n",
       "          window.addEventListener(\"load_cytoscape\", before_render);\n",
       "        } else {\n",
       "          console.log(\"Ready to render graph!\");\n",
       "          render();\n",
       "        }\n",
       "      }\n",
       "\n",
       "      before_render();\n",
       "\n",
       "    })();\n",
       "    </script>\n",
       "</head>\n",
       "\n",
       "<body>\n",
       "  <div id=\"cy5d4ffab3-482c-4c80-b8eb-594727257b4c\"></div>\n",
       "  <!-- When only #uuid div is placed on this page,\n",
       "  the height of output-box on ipynb will be 0px.\n",
       "  One line below will prevent that. -->\n",
       "  <div id=\"dummy\" style=\"width:1098px;height:700px\">\n",
       "</body>\n",
       "\n",
       "</html>"
      ],
      "text/plain": [
       "<IPython.core.display.HTML object>"
      ]
     },
     "metadata": {},
     "output_type": "display_data"
    }
   ],
   "source": [
    "# Step 5: (Optional) Embed as interactive Cytoscape.js widget\n",
    "view = cy_network.get_first_view()\n",
    "style_for_widget = cy.style.get(custom_style.get_name(), data_format='cytoscapejs')\n",
    "renderer.render(view, style=style_for_widget['style'], background='radial-gradient(#FFFFFF 15%, #DDDDDD 105%)')"
   ]
  },
  {
   "cell_type": "markdown",
   "metadata": {
    "slideshow": {
     "slide_type": "slide"
    }
   },
   "source": [
    "Now switch to the visual editor and compare the workflow by hand.\n",
    "\n",
    "* Tools -> Network Analyzer -> Network Analysis -> Analyze Network\n",
    "\n",
    "* Size nodes by their outdegree. This highlights which functions act as hubs.\n",
    "\n",
    "* Remove all vertices and edges from namespaces outside of the library.\n",
    "\n",
    "* Layout -> yFiles Hierarchical Layout\n",
    "\n",
    "* Layout -> Clear All Edge Bends\n",
    "\n",
    "* Move test paths to the right-hand side. Color test vertices yellow.\n",
    "\n",
    "* Line up production vertices so that the arrow of time points in one direction."
   ]
  },
  {
   "cell_type": "markdown",
   "metadata": {
    "slideshow": {
     "slide_type": "slide"
    }
   },
   "source": [
    "![](./img/lein-topology-faad435.png)"
   ]
  },
  {
   "cell_type": "markdown",
   "metadata": {
    "slideshow": {
     "slide_type": "notes"
    }
   },
   "source": [
    "Start at the lower left, in this case at leiningen.topology/topology. The flow of control starts here and moves in a depth-first search from the lower left to the upper right. At the end of each path, control returns to the caller and proceeds across the next outgoing edge.\n",
    "\n",
    "Notice how the five namespaces in this library are arranged to be in close proximity.\n",
    "\n",
    "The program is a tree...a directed acyclic graph.\n",
    "\n",
    "Test coverage can be seen at a glance by following edges from the test vertices on the right.\n",
    "\n",
    "If this diagram were static, it would be an infographic. Informative, perhaps, but ultimately prone to error as the system changes. What we'd like is the ability to _generate_ this diagram from underlying data. In fact, this diagram was mostly generated automatically, and could be completely."
   ]
  },
  {
   "cell_type": "markdown",
   "metadata": {
    "slideshow": {
     "slide_type": "slide"
    }
   },
   "source": [
    "### We like architecture diagrams because they provide a compact visual description of complicated engineered systems.\n",
    "\n",
    "There is no substitute for quick exploratory analysis and pattern recognition.\n",
    "\n",
    "### We don't like pushing pixels.\n",
    "\n",
    "Laying out by hand isn't going to happen on every commit.\n",
    "\n",
    "This is why diagrams get stale."
   ]
  },
  {
   "cell_type": "markdown",
   "metadata": {
    "slideshow": {
     "slide_type": "slide"
    }
   },
   "source": [
    "End-to-end automation creates some interesting possibilities:\n",
    "\n",
    "* Generate edge data\n",
    "* Generate visualization based on previous commit.\n",
    "* Save coordinates of existing vertices.\n",
    "* Generate visualization of latest code based on recent changes, laying out by hand only things that have changed."
   ]
  },
  {
   "cell_type": "markdown",
   "metadata": {
    "slideshow": {
     "slide_type": "subslide"
    }
   },
   "source": [
    "### The problems...\n",
    "\n",
    "* People capturing architecture as marketecture chartjunk.\n",
    "\n",
    "* People create their own vocabularies to describe architecture, then try to build a business off of these ideas. UML is the most infamous of these vocabularies. Plenty of wasted money and time has been spent on that effort."
   ]
  },
  {
   "cell_type": "markdown",
   "metadata": {
    "slideshow": {
     "slide_type": "slide"
    }
   },
   "source": [
    "### The alternative: Architecture as Network\n",
    "\n",
    "A dependency network can be represented as an edge list of the form \"source,target,weight\", e.g.:\n",
    "\n",
    "```\n",
    "topology.core/print-weighted-edges,clojure.core/defn,1\n",
    "topology.core/print-weighted-edges,clojure.core/doseq,1\n",
    "topology.core/print-weighted-edges,clojure.core/println,1\n",
    "topology.core/print-weighted-edges,clojure.string/join,1\n",
    "```\n",
    "\n",
    "This raw data can be imported into visualization tools and organized as a graph and treated like a database.\n",
    "\n",
    "Equivalently, network diagrams created in tools like Cytoscape can be saved as network data."
   ]
  },
  {
   "cell_type": "markdown",
   "metadata": {
    "slideshow": {
     "slide_type": "slide"
    }
   },
   "source": [
    "### Descriptive architecture based on observations...\n",
    "\n",
    "### ...over prescriptive architecture based on prognostications."
   ]
  },
  {
   "cell_type": "markdown",
   "metadata": {
    "slideshow": {
     "slide_type": "slide"
    }
   },
   "source": [
    "## Dependency Graphing Exercise\n",
    "\n",
    "Take a library you'd like to better understand...probably one you want to change.\n",
    "\n",
    "Start with the output, then walk the dependency graph. \n",
    "\n",
    "**You can start with just package / namespace / class level dependencies**\n",
    "\n",
    "Create the network manually in Cytoscape. We can export the data as a node, edge list when we're done.\n",
    "\n",
    "You might even find it easier to work in text, building out the dependencies edgewise, then importing into cytoscape when you're done."
   ]
  },
  {
   "cell_type": "markdown",
   "metadata": {
    "slideshow": {
     "slide_type": "slide"
    }
   },
   "source": [
    "### Collect the Dots (Artifacts aren't just functions...)\n",
    "\n",
    "You've seen topology create a function dependency graph from a Clojure repo. The same approach is generic: Sources of data to mine \"edgewise\" include git repos, Jenkins / CI, AWS infra like Route 53. hub.docker.com."
   ]
  },
  {
   "cell_type": "markdown",
   "metadata": {
    "slideshow": {
     "slide_type": "subslide"
    }
   },
   "source": [
    "### Analyze...Connect the Dots\n",
    "\n",
    "In memory graph analysis is appropriate for N < 1M\n",
    "\n",
    "yourdatafitsinram"
   ]
  },
  {
   "cell_type": "markdown",
   "metadata": {
    "slideshow": {
     "slide_type": "subslide"
    }
   },
   "source": [
    "### Visualize\n",
    "\n",
    "    \"A fundamental challenge in moving from the static to the dynamic is the need to respect, in the case of the latter, what is referred to as the user’s mental map. This term is used to describe the result of the process by which, upon studying a given static network map, a user becomes familiar with it, interprets it, and navigates about it. Simply put, we would expect a certain amount of ‘stability’ across visualizations.\" - Statistical Analysis of Network Data in R"
   ]
  },
  {
   "cell_type": "markdown",
   "metadata": {
    "slideshow": {
     "slide_type": "subslide"
    }
   },
   "source": [
    "### Act: Refactor...Restructure\n",
    "\n",
    "    \"With the adoption of a graph-based framework for representing relational data in network analysis we inherit a rich vocabulary for discussing various important concepts related to graphs.\"\n",
    "\n",
    "    \"questions of interest can often be re-phrased in a useful manner as questions regarding some aspect of the structure or characteristics of a corresponding network graph."
   ]
  },
  {
   "cell_type": "markdown",
   "metadata": {
    "slideshow": {
     "slide_type": "slide"
    }
   },
   "source": [
    "### Applications of networks for code\n",
    "\n",
    "* Orientation...where are things in this system?\n",
    " * Collections of vertices: Communities/Clusters => Packages/Namespaces\n",
    " * The experiment we did at the beginning is starting to be how I'm thinking about program organization. Put it all in one place, at least as a thought experiment. Where are the communities that result from the network structure? How do we describe the flow of control through the program? What if we simply organize the package structure to reflect that flow of control? **Form follows function.**\n",
    " \n",
    "* Which of the containers are \"hidden\", visible from only a small number of consumers? `topology.symbols`, for example, is hidden behind `topology.dependencies`. The entire implementation could be swapped out without impacting the rest of the program if the contract with `topology.dependencies` is maintained. \n",
    "\n",
    "* Root cause analysis: Paths from a temporary root node to the node where a problem is observed. pathfinding + changelogs.\n",
    "\n",
    "* SRP enforcement: Which namespaces are the consumers of any other given namespace? Does the provider expose a consistent interface to consumers?\n",
    "\n",
    "* YAGNI: Find all nodes with no incoming edges that aren't in a certain namespace (like the one with the main method).\n",
    "\n",
    "* Change propogators: High in-degree and out-degree centrality. \"Change agents make systems brittle because they increase the likelihood that the effect of a change will propagate to a disproportionately large portion of the system.\" These seem like they would also be picked up by other ranking algorithms and centrality measures like pagerank."
   ]
  },
  {
   "cell_type": "markdown",
   "metadata": {
    "slideshow": {
     "slide_type": "slide"
    }
   },
   "source": [
    "## Visualizing code with a Dependency Structure Matrix (DSM)\n",
    "\n",
    "`'s','t',1` => `[{'source': 's','target': 't','weight': '1'}]`"
   ]
  },
  {
   "cell_type": "code",
   "execution_count": 53,
   "metadata": {
    "collapsed": false,
    "slideshow": {
     "slide_type": "subslide"
    }
   },
   "outputs": [],
   "source": [
    "from scripts.io import *\n",
    "\n",
    "network_data = csv_to_edgelist('./data/lein-topology-faad435.csv')"
   ]
  },
  {
   "cell_type": "code",
   "execution_count": 54,
   "metadata": {
    "collapsed": false,
    "slideshow": {
     "slide_type": "subslide"
    }
   },
   "outputs": [
    {
     "data": {
      "text/plain": [
       "204"
      ]
     },
     "execution_count": 54,
     "metadata": {},
     "output_type": "execute_result"
    }
   ],
   "source": [
    "len(network_data)"
   ]
  },
  {
   "cell_type": "code",
   "execution_count": 55,
   "metadata": {
    "collapsed": false,
    "scrolled": true,
    "slideshow": {
     "slide_type": "subslide"
    }
   },
   "outputs": [
    {
     "data": {
      "text/plain": [
       "[{'source': 'topology.dependencies/dependencies',\n",
       "  'target': 'clojure.core/defn-',\n",
       "  'weight': '1'},\n",
       " {'source': 'topology.dependencies/filtered',\n",
       "  'target': 'clojure.core/filter',\n",
       "  'weight': '1'},\n",
       " {'source': 'topology.dependencies-test/should-compute-fn-calls-in-namespace',\n",
       "  'target': 'clojure.core/defn',\n",
       "  'weight': '1'},\n",
       " {'source': 'example/test-when', 'target': 'clojure.core/cons', 'weight': '1'},\n",
       " {'source': 'leiningen.topology/topology',\n",
       "  'target': 'org.clojure/clojure',\n",
       "  'weight': '1'}]"
      ]
     },
     "execution_count": 55,
     "metadata": {},
     "output_type": "execute_result"
    }
   ],
   "source": [
    "list(network_data)[:5]"
   ]
  },
  {
   "cell_type": "markdown",
   "metadata": {
    "collapsed": true,
    "slideshow": {
     "slide_type": "slide"
    }
   },
   "source": [
    "Let's try visualizing as a Dependency Structure Matrix. \n",
    "\n",
    "[\"A DSM scales better than a network visualization\"](http://www.ndepend.com/docs/dependency-structure-matrix-dsm)."
   ]
  },
  {
   "cell_type": "code",
   "execution_count": 56,
   "metadata": {
    "collapsed": false,
    "slideshow": {
     "slide_type": "subslide"
    }
   },
   "outputs": [
    {
     "data": {
      "text/plain": [
       "106"
      ]
     },
     "execution_count": 56,
     "metadata": {},
     "output_type": "execute_result"
    }
   ],
   "source": [
    "from scripts.graph import *\n",
    "\n",
    "len(edgelist_to_nodes(network_data))"
   ]
  },
  {
   "cell_type": "markdown",
   "metadata": {
    "slideshow": {
     "slide_type": "slide"
    }
   },
   "source": [
    "We will be looking at a $N^2$ matrix...the dependency structure matrix. \n",
    "\n",
    "`row -depends-> column`\n",
    "\n",
    "Try sorting the entries by outdegree. Notice how most of the most of the lower half of the matrix is empty? This is otherwise known as a sparse matrix."
   ]
  },
  {
   "cell_type": "code",
   "execution_count": 57,
   "metadata": {
    "collapsed": false,
    "scrolled": true,
    "slideshow": {
     "slide_type": "slide"
    }
   },
   "outputs": [
    {
     "data": {
      "text/html": [
       "\n",
       "        <iframe\n",
       "            width=\"100%\"\n",
       "            height=\"800\"\n",
       "            src=\"figure/graph-5b7b25cf-93c6-4dee-aacd-51f6ffa72913.html\"\n",
       "            frameborder=\"0\"\n",
       "            allowfullscreen\n",
       "        ></iframe>\n",
       "        "
      ],
      "text/plain": [
       "<IPython.lib.display.IFrame at 0x106a02390>"
      ]
     },
     "execution_count": 57,
     "metadata": {},
     "output_type": "execute_result"
    }
   ],
   "source": [
    "from scripts.layouts import *\n",
    "\n",
    "matrix(network_data, 800)"
   ]
  },
  {
   "cell_type": "markdown",
   "metadata": {
    "collapsed": true,
    "slideshow": {
     "slide_type": "slide"
    }
   },
   "source": [
    "### DSM Visualization Exercise Ideas\n",
    "\n",
    "* We would ideally like to order this by group. In this case, namespace is a reasonable way to group. There are many potential options.\n",
    "\n",
    "* Coloring cells could be done in a more interesting way.\n",
    "\n",
    "* Abbreviating columns would be useful."
   ]
  },
  {
   "cell_type": "markdown",
   "metadata": {
    "collapsed": true,
    "slideshow": {
     "slide_type": "slide"
    }
   },
   "source": [
    "### This doesn't mean BDUF is back in style...\n",
    "\n",
    "...but equally, NDUF (No Design Up Front) and NDE (No Design Ever) aren't cool anymore now that you have a powerful architecture model. \n",
    "\n",
    "* Start with the simplest structure that can possibly work.\n",
    "\n",
    "* Descriptive over prescriptive architecture. Given the level of complication, it's tough to know a priori what you are about to create. Reverse engineer the structure of an existing system, then bring in structural analysis to your red-green-refactor cycle.\n",
    "\n",
    "* Once desirable structural patterns are known amongst the team, you can start to write tests that express these rules.\n",
    "\n",
    "* Techniques like TDD and BDD are design techniques, not only verification steps. The structural modeling allows you to visualize and navigate the structure of your code, however it was produced. Given the assertion that TDD / BDD result in \"better\" designs, network modeling may provide a means for objective evidence."
   ]
  },
  {
   "cell_type": "markdown",
   "metadata": {
    "slideshow": {
     "slide_type": "slide"
    }
   },
   "source": [
    "### Don't mix networks in the same data set (unless you know what you're doing)\n",
    "\n",
    "* We've been exploring tools for network analysis. Property graph db vendors will encourage you to put everything in a graph, then query what you need. The downside is more complicated schema management.\n",
    "\n",
    "While you _can_ use a graph database in lieu of RDBMS, it's not entirely clear that you _should_.\n",
    "\n",
    "Be clear about what your vertices and edges represent."
   ]
  },
  {
   "cell_type": "markdown",
   "metadata": {
    "slideshow": {
     "slide_type": "slide"
    }
   },
   "source": [
    "### Graph Databases?\n",
    "\n",
    "At no point until now have I said anything about 'graph databases' like Neo4j and Titan. These are persistence stores. They offer a query language, scalability, transactional support, and security along with other concerns found in a RDBMS / NOSQL persistence tier. \n",
    "\n",
    "Use the simplest structure that can possibly work. Given that yourdatafitsinram, you can likely go very far with an in-memory approach that reads in all the data upon system startup. If you're at a point where you _know_ you need to solve the concerns a graph database can handle, then everything we've seen today still applies to the analysis steps.\n",
    "\n",
    "The graph db vendors don't often spend much time on network analysis ideas beyond some of the basics. Most of what you'll find from them involves using the query language, or converting their particular graph representation into others like `networkx` or `igraph`.\n"
   ]
  },
  {
   "cell_type": "markdown",
   "metadata": {
    "slideshow": {
     "slide_type": "slide"
    }
   },
   "source": [
    "### Getting Practice\n",
    "\n",
    "• Network analysis koans...practicing simple techniques that allow one to easily use these methods improvisationally to explore new data sets.\n",
    "\n",
    "• Continuing to learn: Pick up Gabor's book and work through the exercises.\n",
    "\n",
    "### Docs\n",
    "\n",
    "Cytoscape Manual: http://manual.cytoscape.org/en/stable/\n",
    "\n",
    "Cytoscape JS Tutorials: http://blog.js.cytoscape.org/2016/05/24/getting-started/\n",
    "\n",
    "\n",
    "### Books\n",
    "\n",
    "* Design Rules for modularity\n",
    "\n",
    "* TAOUP\n",
    "\n",
    "* Software Tools\n",
    "\n",
    "* Visual Complexity\n",
    "\n",
    "* Book of Trees\n",
    "\n",
    "* Dependency Structure Matrix methods\n",
    "\n",
    "* SANDr is the best introduction to network analysis I've found. Read the chapters on describing networks first. We might be able to model processes on networks, but that will take some time.\n",
    "\n",
    "* Barabasi for overview of Network Science"
   ]
  },
  {
   "cell_type": "markdown",
   "metadata": {
    "slideshow": {
     "slide_type": "slide"
    }
   },
   "source": [
    "### Community\n",
    "\n",
    "Cytoscape has a thriving app community. \n",
    "\n",
    "http://www.slideshare.net/keiono/introduction-to-biological-network-analysis-and-visualization-with-cytoscape-part1\n",
    "\n",
    "cytoscape-discuss@googlegroups.com\n",
    "\n",
    "cytoscape-help@googlegroups.com\n",
    "\n",
    "[SOCNET](https://insna.org/socnet.html)\n",
    "\n",
    "Where should we continue the conversation about software architecture networks?\n",
    "\n",
    "I think we need a Google Group. Name?\n",
    "\n",
    "In the meantime, you can find me @bobbynorton and bobby@testedminds.com."
   ]
  }
 ],
 "metadata": {
  "celltoolbar": "Slideshow",
  "kernelspec": {
   "display_name": "Python 2",
   "language": "python",
   "name": "python2"
  },
  "language_info": {
   "codemirror_mode": {
    "name": "ipython",
    "version": 2
   },
   "file_extension": ".py",
   "mimetype": "text/x-python",
   "name": "python",
   "nbconvert_exporter": "python",
   "pygments_lexer": "ipython2",
   "version": "2.7.12"
  }
 },
 "nbformat": 4,
 "nbformat_minor": 0
}
